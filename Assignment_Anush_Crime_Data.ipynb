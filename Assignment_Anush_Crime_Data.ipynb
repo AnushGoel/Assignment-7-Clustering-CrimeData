{
 "cells": [
  {
   "cell_type": "markdown",
   "id": "54da0015",
   "metadata": {},
   "source": [
    "### Perform Clustering(Hierarchical, Kmeans & DBSCAN) for the crime data and identify the number of clusters formed and draw inferences.\n",
    "\n",
    "Data Description:\n",
    "\n",
    "Murder -- Muder rates in different places of United States\n",
    "\n",
    "Assualt- Assualt rate in different places of United States\n",
    "\n",
    "UrbanPop - urban population in different places of United States\n",
    "\n",
    "Rape - Rape rate in different places of United States\n"
   ]
  },
  {
   "cell_type": "code",
   "execution_count": 309,
   "id": "88ed60f7",
   "metadata": {},
   "outputs": [],
   "source": [
    "import pandas as pd\n",
    "import numpy as np\n",
    "import matplotlib.pyplot as plt\n",
    "from sklearn.cluster import KMeans\n",
    "from sklearn.preprocessing import StandardScaler, MinMaxScaler\n",
    "from sklearn.metrics import silhouette_score, completeness_score"
   ]
  },
  {
   "cell_type": "code",
   "execution_count": 59,
   "id": "bf085106",
   "metadata": {},
   "outputs": [],
   "source": [
    "import warnings\n",
    "warnings.filterwarnings('ignore')"
   ]
  },
  {
   "cell_type": "code",
   "execution_count": 60,
   "id": "662eb2af",
   "metadata": {},
   "outputs": [],
   "source": [
    "Murder= pd.read_csv (\"crime_data.csv\")"
   ]
  },
  {
   "cell_type": "code",
   "execution_count": 61,
   "id": "9cdd31f4",
   "metadata": {},
   "outputs": [
    {
     "data": {
      "text/html": [
       "<div>\n",
       "<style scoped>\n",
       "    .dataframe tbody tr th:only-of-type {\n",
       "        vertical-align: middle;\n",
       "    }\n",
       "\n",
       "    .dataframe tbody tr th {\n",
       "        vertical-align: top;\n",
       "    }\n",
       "\n",
       "    .dataframe thead th {\n",
       "        text-align: right;\n",
       "    }\n",
       "</style>\n",
       "<table border=\"1\" class=\"dataframe\">\n",
       "  <thead>\n",
       "    <tr style=\"text-align: right;\">\n",
       "      <th></th>\n",
       "      <th>Unnamed: 0</th>\n",
       "      <th>Murder</th>\n",
       "      <th>Assault</th>\n",
       "      <th>UrbanPop</th>\n",
       "      <th>Rape</th>\n",
       "    </tr>\n",
       "  </thead>\n",
       "  <tbody>\n",
       "    <tr>\n",
       "      <th>0</th>\n",
       "      <td>Alabama</td>\n",
       "      <td>13.2</td>\n",
       "      <td>236</td>\n",
       "      <td>58</td>\n",
       "      <td>21.2</td>\n",
       "    </tr>\n",
       "    <tr>\n",
       "      <th>1</th>\n",
       "      <td>Alaska</td>\n",
       "      <td>10.0</td>\n",
       "      <td>263</td>\n",
       "      <td>48</td>\n",
       "      <td>44.5</td>\n",
       "    </tr>\n",
       "    <tr>\n",
       "      <th>2</th>\n",
       "      <td>Arizona</td>\n",
       "      <td>8.1</td>\n",
       "      <td>294</td>\n",
       "      <td>80</td>\n",
       "      <td>31.0</td>\n",
       "    </tr>\n",
       "    <tr>\n",
       "      <th>3</th>\n",
       "      <td>Arkansas</td>\n",
       "      <td>8.8</td>\n",
       "      <td>190</td>\n",
       "      <td>50</td>\n",
       "      <td>19.5</td>\n",
       "    </tr>\n",
       "    <tr>\n",
       "      <th>4</th>\n",
       "      <td>California</td>\n",
       "      <td>9.0</td>\n",
       "      <td>276</td>\n",
       "      <td>91</td>\n",
       "      <td>40.6</td>\n",
       "    </tr>\n",
       "  </tbody>\n",
       "</table>\n",
       "</div>"
      ],
      "text/plain": [
       "   Unnamed: 0  Murder  Assault  UrbanPop  Rape\n",
       "0     Alabama    13.2      236        58  21.2\n",
       "1      Alaska    10.0      263        48  44.5\n",
       "2     Arizona     8.1      294        80  31.0\n",
       "3    Arkansas     8.8      190        50  19.5\n",
       "4  California     9.0      276        91  40.6"
      ]
     },
     "execution_count": 61,
     "metadata": {},
     "output_type": "execute_result"
    }
   ],
   "source": [
    "Murder.head()"
   ]
  },
  {
   "cell_type": "code",
   "execution_count": 62,
   "id": "0b3ea0ae",
   "metadata": {},
   "outputs": [
    {
     "data": {
      "text/html": [
       "<div>\n",
       "<style scoped>\n",
       "    .dataframe tbody tr th:only-of-type {\n",
       "        vertical-align: middle;\n",
       "    }\n",
       "\n",
       "    .dataframe tbody tr th {\n",
       "        vertical-align: top;\n",
       "    }\n",
       "\n",
       "    .dataframe thead th {\n",
       "        text-align: right;\n",
       "    }\n",
       "</style>\n",
       "<table border=\"1\" class=\"dataframe\">\n",
       "  <thead>\n",
       "    <tr style=\"text-align: right;\">\n",
       "      <th></th>\n",
       "      <th>Unnamed: 0</th>\n",
       "      <th>Murder</th>\n",
       "      <th>Assault</th>\n",
       "      <th>UrbanPop</th>\n",
       "      <th>Rape</th>\n",
       "    </tr>\n",
       "  </thead>\n",
       "  <tbody>\n",
       "    <tr>\n",
       "      <th>45</th>\n",
       "      <td>Virginia</td>\n",
       "      <td>8.5</td>\n",
       "      <td>156</td>\n",
       "      <td>63</td>\n",
       "      <td>20.7</td>\n",
       "    </tr>\n",
       "    <tr>\n",
       "      <th>46</th>\n",
       "      <td>Washington</td>\n",
       "      <td>4.0</td>\n",
       "      <td>145</td>\n",
       "      <td>73</td>\n",
       "      <td>26.2</td>\n",
       "    </tr>\n",
       "    <tr>\n",
       "      <th>47</th>\n",
       "      <td>West Virginia</td>\n",
       "      <td>5.7</td>\n",
       "      <td>81</td>\n",
       "      <td>39</td>\n",
       "      <td>9.3</td>\n",
       "    </tr>\n",
       "    <tr>\n",
       "      <th>48</th>\n",
       "      <td>Wisconsin</td>\n",
       "      <td>2.6</td>\n",
       "      <td>53</td>\n",
       "      <td>66</td>\n",
       "      <td>10.8</td>\n",
       "    </tr>\n",
       "    <tr>\n",
       "      <th>49</th>\n",
       "      <td>Wyoming</td>\n",
       "      <td>6.8</td>\n",
       "      <td>161</td>\n",
       "      <td>60</td>\n",
       "      <td>15.6</td>\n",
       "    </tr>\n",
       "  </tbody>\n",
       "</table>\n",
       "</div>"
      ],
      "text/plain": [
       "       Unnamed: 0  Murder  Assault  UrbanPop  Rape\n",
       "45       Virginia     8.5      156        63  20.7\n",
       "46     Washington     4.0      145        73  26.2\n",
       "47  West Virginia     5.7       81        39   9.3\n",
       "48      Wisconsin     2.6       53        66  10.8\n",
       "49        Wyoming     6.8      161        60  15.6"
      ]
     },
     "execution_count": 62,
     "metadata": {},
     "output_type": "execute_result"
    }
   ],
   "source": [
    "Murder.tail()"
   ]
  },
  {
   "cell_type": "code",
   "execution_count": 63,
   "id": "06fa98b3",
   "metadata": {},
   "outputs": [
    {
     "name": "stdout",
     "output_type": "stream",
     "text": [
      "<class 'pandas.core.frame.DataFrame'>\n",
      "RangeIndex: 50 entries, 0 to 49\n",
      "Data columns (total 5 columns):\n",
      " #   Column      Non-Null Count  Dtype  \n",
      "---  ------      --------------  -----  \n",
      " 0   Unnamed: 0  50 non-null     object \n",
      " 1   Murder      50 non-null     float64\n",
      " 2   Assault     50 non-null     int64  \n",
      " 3   UrbanPop    50 non-null     int64  \n",
      " 4   Rape        50 non-null     float64\n",
      "dtypes: float64(2), int64(2), object(1)\n",
      "memory usage: 2.1+ KB\n"
     ]
    }
   ],
   "source": [
    "Murder.info()"
   ]
  },
  {
   "cell_type": "code",
   "execution_count": 64,
   "id": "2d8bfa70",
   "metadata": {},
   "outputs": [
    {
     "data": {
      "text/html": [
       "<div>\n",
       "<style scoped>\n",
       "    .dataframe tbody tr th:only-of-type {\n",
       "        vertical-align: middle;\n",
       "    }\n",
       "\n",
       "    .dataframe tbody tr th {\n",
       "        vertical-align: top;\n",
       "    }\n",
       "\n",
       "    .dataframe thead th {\n",
       "        text-align: right;\n",
       "    }\n",
       "</style>\n",
       "<table border=\"1\" class=\"dataframe\">\n",
       "  <thead>\n",
       "    <tr style=\"text-align: right;\">\n",
       "      <th></th>\n",
       "      <th>Murder</th>\n",
       "      <th>Assault</th>\n",
       "      <th>UrbanPop</th>\n",
       "      <th>Rape</th>\n",
       "    </tr>\n",
       "  </thead>\n",
       "  <tbody>\n",
       "    <tr>\n",
       "      <th>count</th>\n",
       "      <td>50.00000</td>\n",
       "      <td>50.000000</td>\n",
       "      <td>50.000000</td>\n",
       "      <td>50.000000</td>\n",
       "    </tr>\n",
       "    <tr>\n",
       "      <th>mean</th>\n",
       "      <td>7.78800</td>\n",
       "      <td>170.760000</td>\n",
       "      <td>65.540000</td>\n",
       "      <td>21.232000</td>\n",
       "    </tr>\n",
       "    <tr>\n",
       "      <th>std</th>\n",
       "      <td>4.35551</td>\n",
       "      <td>83.337661</td>\n",
       "      <td>14.474763</td>\n",
       "      <td>9.366385</td>\n",
       "    </tr>\n",
       "    <tr>\n",
       "      <th>min</th>\n",
       "      <td>0.80000</td>\n",
       "      <td>45.000000</td>\n",
       "      <td>32.000000</td>\n",
       "      <td>7.300000</td>\n",
       "    </tr>\n",
       "    <tr>\n",
       "      <th>25%</th>\n",
       "      <td>4.07500</td>\n",
       "      <td>109.000000</td>\n",
       "      <td>54.500000</td>\n",
       "      <td>15.075000</td>\n",
       "    </tr>\n",
       "    <tr>\n",
       "      <th>50%</th>\n",
       "      <td>7.25000</td>\n",
       "      <td>159.000000</td>\n",
       "      <td>66.000000</td>\n",
       "      <td>20.100000</td>\n",
       "    </tr>\n",
       "    <tr>\n",
       "      <th>75%</th>\n",
       "      <td>11.25000</td>\n",
       "      <td>249.000000</td>\n",
       "      <td>77.750000</td>\n",
       "      <td>26.175000</td>\n",
       "    </tr>\n",
       "    <tr>\n",
       "      <th>max</th>\n",
       "      <td>17.40000</td>\n",
       "      <td>337.000000</td>\n",
       "      <td>91.000000</td>\n",
       "      <td>46.000000</td>\n",
       "    </tr>\n",
       "  </tbody>\n",
       "</table>\n",
       "</div>"
      ],
      "text/plain": [
       "         Murder     Assault   UrbanPop       Rape\n",
       "count  50.00000   50.000000  50.000000  50.000000\n",
       "mean    7.78800  170.760000  65.540000  21.232000\n",
       "std     4.35551   83.337661  14.474763   9.366385\n",
       "min     0.80000   45.000000  32.000000   7.300000\n",
       "25%     4.07500  109.000000  54.500000  15.075000\n",
       "50%     7.25000  159.000000  66.000000  20.100000\n",
       "75%    11.25000  249.000000  77.750000  26.175000\n",
       "max    17.40000  337.000000  91.000000  46.000000"
      ]
     },
     "execution_count": 64,
     "metadata": {},
     "output_type": "execute_result"
    }
   ],
   "source": [
    "Murder.describe()"
   ]
  },
  {
   "cell_type": "code",
   "execution_count": 65,
   "id": "b6774cda",
   "metadata": {},
   "outputs": [
    {
     "data": {
      "text/plain": [
       "0"
      ]
     },
     "execution_count": 65,
     "metadata": {},
     "output_type": "execute_result"
    }
   ],
   "source": [
    "Murder.duplicated().sum()"
   ]
  },
  {
   "cell_type": "code",
   "execution_count": 66,
   "id": "0044b2c4",
   "metadata": {},
   "outputs": [],
   "source": [
    "Murder1 = Murder.rename({'Unnamed: 0':'Place'},axis=1)"
   ]
  },
  {
   "cell_type": "code",
   "execution_count": 67,
   "id": "b49d14af",
   "metadata": {},
   "outputs": [
    {
     "data": {
      "text/html": [
       "<div>\n",
       "<style scoped>\n",
       "    .dataframe tbody tr th:only-of-type {\n",
       "        vertical-align: middle;\n",
       "    }\n",
       "\n",
       "    .dataframe tbody tr th {\n",
       "        vertical-align: top;\n",
       "    }\n",
       "\n",
       "    .dataframe thead th {\n",
       "        text-align: right;\n",
       "    }\n",
       "</style>\n",
       "<table border=\"1\" class=\"dataframe\">\n",
       "  <thead>\n",
       "    <tr style=\"text-align: right;\">\n",
       "      <th></th>\n",
       "      <th>Place</th>\n",
       "      <th>Murder</th>\n",
       "      <th>Assault</th>\n",
       "      <th>UrbanPop</th>\n",
       "      <th>Rape</th>\n",
       "    </tr>\n",
       "  </thead>\n",
       "  <tbody>\n",
       "    <tr>\n",
       "      <th>0</th>\n",
       "      <td>Alabama</td>\n",
       "      <td>13.2</td>\n",
       "      <td>236</td>\n",
       "      <td>58</td>\n",
       "      <td>21.2</td>\n",
       "    </tr>\n",
       "    <tr>\n",
       "      <th>1</th>\n",
       "      <td>Alaska</td>\n",
       "      <td>10.0</td>\n",
       "      <td>263</td>\n",
       "      <td>48</td>\n",
       "      <td>44.5</td>\n",
       "    </tr>\n",
       "    <tr>\n",
       "      <th>2</th>\n",
       "      <td>Arizona</td>\n",
       "      <td>8.1</td>\n",
       "      <td>294</td>\n",
       "      <td>80</td>\n",
       "      <td>31.0</td>\n",
       "    </tr>\n",
       "    <tr>\n",
       "      <th>3</th>\n",
       "      <td>Arkansas</td>\n",
       "      <td>8.8</td>\n",
       "      <td>190</td>\n",
       "      <td>50</td>\n",
       "      <td>19.5</td>\n",
       "    </tr>\n",
       "    <tr>\n",
       "      <th>4</th>\n",
       "      <td>California</td>\n",
       "      <td>9.0</td>\n",
       "      <td>276</td>\n",
       "      <td>91</td>\n",
       "      <td>40.6</td>\n",
       "    </tr>\n",
       "  </tbody>\n",
       "</table>\n",
       "</div>"
      ],
      "text/plain": [
       "        Place  Murder  Assault  UrbanPop  Rape\n",
       "0     Alabama    13.2      236        58  21.2\n",
       "1      Alaska    10.0      263        48  44.5\n",
       "2     Arizona     8.1      294        80  31.0\n",
       "3    Arkansas     8.8      190        50  19.5\n",
       "4  California     9.0      276        91  40.6"
      ]
     },
     "execution_count": 67,
     "metadata": {},
     "output_type": "execute_result"
    }
   ],
   "source": [
    "Murder1.head()"
   ]
  },
  {
   "cell_type": "code",
   "execution_count": 69,
   "id": "e19d884d",
   "metadata": {},
   "outputs": [],
   "source": [
    "X=Murder.iloc[:,1:5]"
   ]
  },
  {
   "cell_type": "markdown",
   "id": "07e64bcf",
   "metadata": {},
   "source": [
    "## Standard Scaler"
   ]
  },
  {
   "cell_type": "code",
   "execution_count": 73,
   "id": "829b8380",
   "metadata": {},
   "outputs": [
    {
     "data": {
      "text/plain": [
       "array([[ 1.25517927,  0.79078716, -0.52619514, -0.00345116],\n",
       "       [ 0.51301858,  1.11805959, -1.22406668,  2.50942392],\n",
       "       [ 0.07236067,  1.49381682,  1.00912225,  1.05346626],\n",
       "       [ 0.23470832,  0.23321191, -1.08449238, -0.18679398],\n",
       "       [ 0.28109336,  1.2756352 ,  1.77678094,  2.08881393],\n",
       "       [ 0.02597562,  0.40290872,  0.86954794,  1.88390137],\n",
       "       [-1.04088037, -0.73648418,  0.79976079, -1.09272319],\n",
       "       [-0.43787481,  0.81502956,  0.45082502, -0.58583422],\n",
       "       [ 1.76541475,  1.99078607,  1.00912225,  1.1505301 ],\n",
       "       [ 2.22926518,  0.48775713, -0.38662083,  0.49265293],\n",
       "       [-0.57702994, -1.51224105,  1.21848371, -0.11129987],\n",
       "       [-1.20322802, -0.61527217, -0.80534376, -0.75839217],\n",
       "       [ 0.60578867,  0.94836277,  1.21848371,  0.29852525],\n",
       "       [-0.13637203, -0.70012057, -0.03768506, -0.0250209 ],\n",
       "       [-1.29599811, -1.39102904, -0.5959823 , -1.07115345],\n",
       "       [-0.41468229, -0.67587817,  0.03210209, -0.34856705],\n",
       "       [ 0.44344101, -0.74860538, -0.94491807, -0.53190987],\n",
       "       [ 1.76541475,  0.94836277,  0.03210209,  0.10439756],\n",
       "       [-1.31919063, -1.06375661, -1.01470522, -1.44862395],\n",
       "       [ 0.81452136,  1.56654403,  0.10188925,  0.70835037],\n",
       "       [-0.78576263, -0.26375734,  1.35805802, -0.53190987],\n",
       "       [ 1.00006153,  1.02108998,  0.59039932,  1.49564599],\n",
       "       [-1.1800355 , -1.19708982,  0.03210209, -0.68289807],\n",
       "       [ 1.9277624 ,  1.06957478, -1.5032153 , -0.44563089],\n",
       "       [ 0.28109336,  0.0877575 ,  0.31125071,  0.75148985],\n",
       "       [-0.41468229, -0.74860538, -0.87513091, -0.521125  ],\n",
       "       [-0.80895515, -0.83345379, -0.24704653, -0.51034012],\n",
       "       [ 1.02325405,  0.98472638,  1.0789094 ,  2.671197  ],\n",
       "       [-1.31919063, -1.37890783, -0.66576945, -1.26528114],\n",
       "       [-0.08998698, -0.14254532,  1.63720664, -0.26228808],\n",
       "       [ 0.83771388,  1.38472601,  0.31125071,  1.17209984],\n",
       "       [ 0.76813632,  1.00896878,  1.42784517,  0.52500755],\n",
       "       [ 1.20879423,  2.01502847, -1.43342815, -0.55347961],\n",
       "       [-1.62069341, -1.52436225, -1.5032153 , -1.50254831],\n",
       "       [-0.11317951, -0.61527217,  0.66018648,  0.01811858],\n",
       "       [-0.27552716, -0.23951493,  0.1716764 , -0.13286962],\n",
       "       [-0.66980002, -0.14254532,  0.10188925,  0.87012344],\n",
       "       [-0.34510472, -0.78496898,  0.45082502, -0.68289807],\n",
       "       [-1.01768785,  0.03927269,  1.49763233, -1.39469959],\n",
       "       [ 1.53348953,  1.3119988 , -1.22406668,  0.13675217],\n",
       "       [-0.92491776, -1.027393  , -1.43342815, -0.90938037],\n",
       "       [ 1.25517927,  0.20896951, -0.45640799,  0.61128652],\n",
       "       [ 1.13921666,  0.36654512,  1.00912225,  0.46029832],\n",
       "       [-1.06407289, -0.61527217,  1.00912225,  0.17989166],\n",
       "       [-1.29599811, -1.48799864, -2.34066115, -1.08193832],\n",
       "       [ 0.16513075, -0.17890893, -0.17725937, -0.05737552],\n",
       "       [-0.87853272, -0.31224214,  0.52061217,  0.53579242],\n",
       "       [-0.48425985, -1.08799901, -1.85215107, -1.28685088],\n",
       "       [-1.20322802, -1.42739264,  0.03210209, -1.1250778 ],\n",
       "       [-0.22914211, -0.11830292, -0.38662083, -0.60740397]])"
      ]
     },
     "execution_count": 73,
     "metadata": {},
     "output_type": "execute_result"
    }
   ],
   "source": [
    "scaler = StandardScaler()\n",
    "standard_values = scaler.fit_transform(X)\n",
    "standard_values"
   ]
  },
  {
   "cell_type": "markdown",
   "id": "313f4530",
   "metadata": {},
   "source": [
    "# MinMax Scaler"
   ]
  },
  {
   "cell_type": "code",
   "execution_count": 74,
   "id": "030618b7",
   "metadata": {},
   "outputs": [],
   "source": [
    "scaler = MinMaxScaler()\n",
    "scaled = scaler.fit_transform(X)"
   ]
  },
  {
   "cell_type": "code",
   "execution_count": 75,
   "id": "ae9679ad",
   "metadata": {},
   "outputs": [
    {
     "data": {
      "text/plain": [
       "array([[0.74698795, 0.65410959, 0.44067797, 0.35917313],\n",
       "       [0.55421687, 0.74657534, 0.27118644, 0.96124031],\n",
       "       [0.43975904, 0.85273973, 0.81355932, 0.6124031 ],\n",
       "       [0.48192771, 0.49657534, 0.30508475, 0.31524548],\n",
       "       [0.4939759 , 0.79109589, 1.        , 0.86046512],\n",
       "       [0.42771084, 0.54452055, 0.77966102, 0.81136951],\n",
       "       [0.15060241, 0.22260274, 0.76271186, 0.09819121],\n",
       "       [0.30722892, 0.6609589 , 0.6779661 , 0.21963824],\n",
       "       [0.87951807, 0.99315068, 0.81355932, 0.63565891],\n",
       "       [1.        , 0.56849315, 0.47457627, 0.47803618],\n",
       "       [0.27108434, 0.00342466, 0.86440678, 0.33333333],\n",
       "       [0.10843373, 0.25684932, 0.37288136, 0.17829457],\n",
       "       [0.57831325, 0.69863014, 0.86440678, 0.43152455],\n",
       "       [0.38554217, 0.23287671, 0.55932203, 0.35400517],\n",
       "       [0.08433735, 0.03767123, 0.42372881, 0.10335917],\n",
       "       [0.31325301, 0.23972603, 0.57627119, 0.27648579],\n",
       "       [0.53614458, 0.21917808, 0.33898305, 0.23255814],\n",
       "       [0.87951807, 0.69863014, 0.57627119, 0.38501292],\n",
       "       [0.07831325, 0.13013699, 0.3220339 , 0.0129199 ],\n",
       "       [0.63253012, 0.87328767, 0.59322034, 0.52971576],\n",
       "       [0.21686747, 0.35616438, 0.89830508, 0.23255814],\n",
       "       [0.68072289, 0.71917808, 0.71186441, 0.71834625],\n",
       "       [0.11445783, 0.09246575, 0.57627119, 0.19638243],\n",
       "       [0.92168675, 0.73287671, 0.20338983, 0.25322997],\n",
       "       [0.4939759 , 0.45547945, 0.6440678 , 0.54005168],\n",
       "       [0.31325301, 0.21917808, 0.3559322 , 0.23514212],\n",
       "       [0.21084337, 0.19520548, 0.50847458, 0.2377261 ],\n",
       "       [0.68674699, 0.70890411, 0.83050847, 1.        ],\n",
       "       [0.07831325, 0.04109589, 0.40677966, 0.05684755],\n",
       "       [0.39759036, 0.39041096, 0.96610169, 0.29715762],\n",
       "       [0.63855422, 0.82191781, 0.6440678 , 0.64082687],\n",
       "       [0.62048193, 0.71575342, 0.91525424, 0.48578811],\n",
       "       [0.73493976, 1.        , 0.22033898, 0.22739018],\n",
       "       [0.        , 0.        , 0.20338983, 0.        ],\n",
       "       [0.39156627, 0.25684932, 0.72881356, 0.36434109],\n",
       "       [0.34939759, 0.3630137 , 0.61016949, 0.32816537],\n",
       "       [0.24698795, 0.39041096, 0.59322034, 0.56847545],\n",
       "       [0.3313253 , 0.20890411, 0.6779661 , 0.19638243],\n",
       "       [0.15662651, 0.44178082, 0.93220339, 0.02583979],\n",
       "       [0.81927711, 0.80136986, 0.27118644, 0.39276486],\n",
       "       [0.18072289, 0.14041096, 0.22033898, 0.14211886],\n",
       "       [0.74698795, 0.48972603, 0.45762712, 0.50645995],\n",
       "       [0.71686747, 0.53424658, 0.81355932, 0.47028424],\n",
       "       [0.14457831, 0.25684932, 0.81355932, 0.40310078],\n",
       "       [0.08433735, 0.01027397, 0.        , 0.10077519],\n",
       "       [0.46385542, 0.38013699, 0.52542373, 0.34625323],\n",
       "       [0.19277108, 0.34246575, 0.69491525, 0.48837209],\n",
       "       [0.29518072, 0.12328767, 0.11864407, 0.05167959],\n",
       "       [0.10843373, 0.02739726, 0.57627119, 0.09043928],\n",
       "       [0.36144578, 0.39726027, 0.47457627, 0.21447028]])"
      ]
     },
     "execution_count": 75,
     "metadata": {},
     "output_type": "execute_result"
    }
   ],
   "source": [
    "scaled"
   ]
  },
  {
   "cell_type": "markdown",
   "id": "16cfe220",
   "metadata": {},
   "source": [
    "# KMEAN using Standard Scaler"
   ]
  },
  {
   "cell_type": "code",
   "execution_count": 81,
   "id": "64cf38a4",
   "metadata": {},
   "outputs": [
    {
     "data": {
      "text/plain": [
       "KMeans(n_clusters=2, random_state=42)"
      ]
     },
     "execution_count": 81,
     "metadata": {},
     "output_type": "execute_result"
    }
   ],
   "source": [
    "Kmean_model = KMeans(n_clusters=2, random_state=42)\n",
    "Kmean_model.fit(standard_values)"
   ]
  },
  {
   "cell_type": "code",
   "execution_count": 82,
   "id": "e849bb03",
   "metadata": {},
   "outputs": [
    {
     "data": {
      "text/plain": [
       "array([0, 0, 0, 1, 0, 0, 1, 1, 0, 0, 1, 2, 0, 1, 2, 1, 1, 0, 2, 0, 1, 0,\n",
       "       1, 0, 0, 2, 2, 0, 2, 1, 0, 0, 0, 2, 1, 1, 1, 1, 1, 0, 2, 0, 0, 1,\n",
       "       2, 1, 1, 2, 1, 1], dtype=int64)"
      ]
     },
     "execution_count": 82,
     "metadata": {},
     "output_type": "execute_result"
    }
   ],
   "source": [
    "model.labels_"
   ]
  },
  {
   "cell_type": "code",
   "execution_count": 83,
   "id": "ad62798a",
   "metadata": {},
   "outputs": [
    {
     "data": {
      "text/plain": [
       "104.96163315756871"
      ]
     },
     "execution_count": 83,
     "metadata": {},
     "output_type": "execute_result"
    }
   ],
   "source": [
    "Kmean_model.inertia_"
   ]
  },
  {
   "cell_type": "code",
   "execution_count": 84,
   "id": "3ef1fad9",
   "metadata": {},
   "outputs": [],
   "source": [
    "wcss = []\n",
    "for i in range(1,15):\n",
    "    model = KMeans(n_clusters=i, random_state=42)\n",
    "    model.fit(standard_values)\n",
    "    wcss.append(model.inertia_)"
   ]
  },
  {
   "cell_type": "code",
   "execution_count": 85,
   "id": "6efff973",
   "metadata": {},
   "outputs": [
    {
     "data": {
      "text/plain": [
       "[200.0,\n",
       " 104.96163315756871,\n",
       " 80.08569526137276,\n",
       " 57.55425863091104,\n",
       " 50.33327385184907,\n",
       " 44.259807638112314,\n",
       " 40.91266722247345,\n",
       " 35.695877063333725,\n",
       " 32.57509993011513,\n",
       " 29.253498916734607,\n",
       " 25.819174220864078,\n",
       " 22.668583553359433,\n",
       " 20.7248429866758,\n",
       " 19.073211149797594]"
      ]
     },
     "execution_count": 85,
     "metadata": {},
     "output_type": "execute_result"
    }
   ],
   "source": [
    "wcss"
   ]
  },
  {
   "cell_type": "code",
   "execution_count": 105,
   "id": "08e9b8b3",
   "metadata": {},
   "outputs": [
    {
     "data": {
      "image/png": "[encoded data removed]",
      "text/plain": [
       "<Figure size 640x480 with 1 Axes>"
      ]
     },
     "metadata": {},
     "output_type": "display_data"
    }
   ],
   "source": [
    "plt.plot(range(1,15),wcss,color = 'black')\n",
    "plt.scatter(range(1,15),wcss,color='red')\n",
    "plt.title('Elbow Plot for KMeans')\n",
    "plt.xlabel('K Values')\n",
    "plt.ylabel('WCSS')\n",
    "plt.show()"
   ]
  },
  {
   "cell_type": "code",
   "execution_count": 89,
   "id": "11677455",
   "metadata": {},
   "outputs": [],
   "source": [
    "# 4 clusters would be good as per plot above\n",
    "final_model = KMeans(n_clusters=4, random_state=42)\n",
    "final_model.fit(standard_values)\n",
    "Kmean_labels = final_model.labels_"
   ]
  },
  {
   "cell_type": "code",
   "execution_count": 90,
   "id": "988ae86d",
   "metadata": {},
   "outputs": [
    {
     "data": {
      "text/plain": [
       "array([1, 2, 2, 1, 2, 2, 0, 0, 2, 1, 0, 3, 2, 0, 3, 0, 3, 1, 3, 2, 0, 2,\n",
       "       3, 1, 2, 3, 3, 2, 3, 0, 2, 2, 1, 3, 0, 0, 0, 0, 0, 1, 3, 1, 2, 0,\n",
       "       3, 0, 0, 3, 3, 0])"
      ]
     },
     "execution_count": 90,
     "metadata": {},
     "output_type": "execute_result"
    }
   ],
   "source": [
    "Kmean_labels"
   ]
  },
  {
   "cell_type": "code",
   "execution_count": 91,
   "id": "290b4ade",
   "metadata": {},
   "outputs": [],
   "source": [
    "Murder1['Kmean_labels']= Kmean_labels"
   ]
  },
  {
   "cell_type": "code",
   "execution_count": 92,
   "id": "7d06d64f",
   "metadata": {},
   "outputs": [
    {
     "data": {
      "text/html": [
       "<div>\n",
       "<style scoped>\n",
       "    .dataframe tbody tr th:only-of-type {\n",
       "        vertical-align: middle;\n",
       "    }\n",
       "\n",
       "    .dataframe tbody tr th {\n",
       "        vertical-align: top;\n",
       "    }\n",
       "\n",
       "    .dataframe thead th {\n",
       "        text-align: right;\n",
       "    }\n",
       "</style>\n",
       "<table border=\"1\" class=\"dataframe\">\n",
       "  <thead>\n",
       "    <tr style=\"text-align: right;\">\n",
       "      <th></th>\n",
       "      <th>Place</th>\n",
       "      <th>Murder</th>\n",
       "      <th>Assault</th>\n",
       "      <th>UrbanPop</th>\n",
       "      <th>Rape</th>\n",
       "      <th>Kmean_labels</th>\n",
       "    </tr>\n",
       "  </thead>\n",
       "  <tbody>\n",
       "    <tr>\n",
       "      <th>0</th>\n",
       "      <td>Alabama</td>\n",
       "      <td>13.2</td>\n",
       "      <td>236</td>\n",
       "      <td>58</td>\n",
       "      <td>21.2</td>\n",
       "      <td>1</td>\n",
       "    </tr>\n",
       "    <tr>\n",
       "      <th>1</th>\n",
       "      <td>Alaska</td>\n",
       "      <td>10.0</td>\n",
       "      <td>263</td>\n",
       "      <td>48</td>\n",
       "      <td>44.5</td>\n",
       "      <td>2</td>\n",
       "    </tr>\n",
       "    <tr>\n",
       "      <th>2</th>\n",
       "      <td>Arizona</td>\n",
       "      <td>8.1</td>\n",
       "      <td>294</td>\n",
       "      <td>80</td>\n",
       "      <td>31.0</td>\n",
       "      <td>2</td>\n",
       "    </tr>\n",
       "    <tr>\n",
       "      <th>3</th>\n",
       "      <td>Arkansas</td>\n",
       "      <td>8.8</td>\n",
       "      <td>190</td>\n",
       "      <td>50</td>\n",
       "      <td>19.5</td>\n",
       "      <td>1</td>\n",
       "    </tr>\n",
       "    <tr>\n",
       "      <th>4</th>\n",
       "      <td>California</td>\n",
       "      <td>9.0</td>\n",
       "      <td>276</td>\n",
       "      <td>91</td>\n",
       "      <td>40.6</td>\n",
       "      <td>2</td>\n",
       "    </tr>\n",
       "  </tbody>\n",
       "</table>\n",
       "</div>"
      ],
      "text/plain": [
       "        Place  Murder  Assault  UrbanPop  Rape  Kmean_labels\n",
       "0     Alabama    13.2      236        58  21.2             1\n",
       "1      Alaska    10.0      263        48  44.5             2\n",
       "2     Arizona     8.1      294        80  31.0             2\n",
       "3    Arkansas     8.8      190        50  19.5             1\n",
       "4  California     9.0      276        91  40.6             2"
      ]
     },
     "execution_count": 92,
     "metadata": {},
     "output_type": "execute_result"
    }
   ],
   "source": [
    "Murder1.head()"
   ]
  },
  {
   "cell_type": "code",
   "execution_count": 93,
   "id": "5ac7c9e1",
   "metadata": {},
   "outputs": [
    {
     "data": {
      "image/png": "[encoded data removed]",
      "text/plain": [
       "<Figure size 640x480 with 1 Axes>"
      ]
     },
     "metadata": {},
     "output_type": "display_data"
    }
   ],
   "source": [
    "plt.scatter(Murder1['Kmean_labels'], Murder1.index, c=Kmean_labels, cmap='rainbow')\n",
    "plt.xticks([0,1,2,3])\n",
    "plt.show()"
   ]
  },
  {
   "cell_type": "code",
   "execution_count": 98,
   "id": "c4ee27da",
   "metadata": {},
   "outputs": [
    {
     "data": {
      "text/plain": [
       "<pandas.core.groupby.generic.DataFrameGroupBy object at 0x000001D5F0EBF1F0>"
      ]
     },
     "execution_count": 98,
     "metadata": {},
     "output_type": "execute_result"
    }
   ],
   "source": [
    "grp = Murder1.groupby(['Kmean_labels'])\n",
    "grp"
   ]
  },
  {
   "cell_type": "code",
   "execution_count": 99,
   "id": "d3e118bb",
   "metadata": {},
   "outputs": [
    {
     "name": "stdout",
     "output_type": "stream",
     "text": [
      "            Place  Murder  Assault  UrbanPop  Rape  Kmean_labels\n",
      "6     Connecticut     3.3      110        77  11.1             0\n",
      "7        Delaware     5.9      238        72  15.8             0\n",
      "10         Hawaii     5.3       46        83  20.2             0\n",
      "13        Indiana     7.2      113        65  21.0             0\n",
      "15         Kansas     6.0      115        66  18.0             0\n",
      "20  Massachusetts     4.4      149        85  16.3             0\n",
      "29     New Jersey     7.4      159        89  18.8             0\n",
      "34           Ohio     7.3      120        75  21.4             0\n",
      "35       Oklahoma     6.6      151        68  20.0             0\n",
      "36         Oregon     4.9      159        67  29.3             0\n",
      "37   Pennsylvania     6.3      106        72  14.9             0\n",
      "38   Rhode Island     3.4      174        87   8.3             0\n",
      "43           Utah     3.2      120        80  22.9             0\n",
      "45       Virginia     8.5      156        63  20.7             0\n",
      "46     Washington     4.0      145        73  26.2             0\n",
      "49        Wyoming     6.8      161        60  15.6             0\n",
      "_________________________________________________________________________\n",
      "             Place  Murder  Assault  UrbanPop  Rape  Kmean_labels\n",
      "0          Alabama    13.2      236        58  21.2             1\n",
      "3         Arkansas     8.8      190        50  19.5             1\n",
      "9          Georgia    17.4      211        60  25.8             1\n",
      "17       Louisiana    15.4      249        66  22.2             1\n",
      "23     Mississippi    16.1      259        44  17.1             1\n",
      "32  North Carolina    13.0      337        45  16.1             1\n",
      "39  South Carolina    14.4      279        48  22.5             1\n",
      "41       Tennessee    13.2      188        59  26.9             1\n",
      "_________________________________________________________________________\n",
      "         Place  Murder  Assault  UrbanPop  Rape  Kmean_labels\n",
      "1       Alaska    10.0      263        48  44.5             2\n",
      "2      Arizona     8.1      294        80  31.0             2\n",
      "4   California     9.0      276        91  40.6             2\n",
      "5     Colorado     7.9      204        78  38.7             2\n",
      "8      Florida    15.4      335        80  31.9             2\n",
      "12    Illinois    10.4      249        83  24.0             2\n",
      "19    Maryland    11.3      300        67  27.8             2\n",
      "21    Michigan    12.1      255        74  35.1             2\n",
      "24    Missouri     9.0      178        70  28.2             2\n",
      "27      Nevada    12.2      252        81  46.0             2\n",
      "30  New Mexico    11.4      285        70  32.1             2\n",
      "31    New York    11.1      254        86  26.1             2\n",
      "42       Texas    12.7      201        80  25.5             2\n",
      "_________________________________________________________________________\n",
      "            Place  Murder  Assault  UrbanPop  Rape  Kmean_labels\n",
      "11          Idaho     2.6      120        54  14.2             3\n",
      "14           Iowa     2.2       56        57  11.3             3\n",
      "16       Kentucky     9.7      109        52  16.3             3\n",
      "18          Maine     2.1       83        51   7.8             3\n",
      "22      Minnesota     2.7       72        66  14.9             3\n",
      "25        Montana     6.0      109        53  16.4             3\n",
      "26       Nebraska     4.3      102        62  16.5             3\n",
      "28  New Hampshire     2.1       57        56   9.5             3\n",
      "33   North Dakota     0.8       45        44   7.3             3\n",
      "40   South Dakota     3.8       86        45  12.8             3\n",
      "44        Vermont     2.2       48        32  11.2             3\n",
      "47  West Virginia     5.7       81        39   9.3             3\n",
      "48      Wisconsin     2.6       53        66  10.8             3\n",
      "_________________________________________________________________________\n"
     ]
    }
   ],
   "source": [
    "for x,y in grp:\n",
    "    print(y)\n",
    "    print('_________________________________________________________________________')"
   ]
  },
  {
   "cell_type": "code",
   "execution_count": 100,
   "id": "3acf7920",
   "metadata": {},
   "outputs": [
    {
     "data": {
      "text/html": [
       "<div>\n",
       "<style scoped>\n",
       "    .dataframe tbody tr th:only-of-type {\n",
       "        vertical-align: middle;\n",
       "    }\n",
       "\n",
       "    .dataframe tbody tr th {\n",
       "        vertical-align: top;\n",
       "    }\n",
       "\n",
       "    .dataframe thead tr th {\n",
       "        text-align: left;\n",
       "    }\n",
       "\n",
       "    .dataframe thead tr:last-of-type th {\n",
       "        text-align: right;\n",
       "    }\n",
       "</style>\n",
       "<table border=\"1\" class=\"dataframe\">\n",
       "  <thead>\n",
       "    <tr>\n",
       "      <th></th>\n",
       "      <th colspan=\"3\" halign=\"left\">Murder</th>\n",
       "      <th colspan=\"3\" halign=\"left\">Assault</th>\n",
       "      <th colspan=\"3\" halign=\"left\">UrbanPop</th>\n",
       "      <th colspan=\"3\" halign=\"left\">Rape</th>\n",
       "    </tr>\n",
       "    <tr>\n",
       "      <th></th>\n",
       "      <th>mean</th>\n",
       "      <th>min</th>\n",
       "      <th>max</th>\n",
       "      <th>mean</th>\n",
       "      <th>min</th>\n",
       "      <th>max</th>\n",
       "      <th>mean</th>\n",
       "      <th>min</th>\n",
       "      <th>max</th>\n",
       "      <th>mean</th>\n",
       "      <th>min</th>\n",
       "      <th>max</th>\n",
       "    </tr>\n",
       "    <tr>\n",
       "      <th>Kmean_labels</th>\n",
       "      <th></th>\n",
       "      <th></th>\n",
       "      <th></th>\n",
       "      <th></th>\n",
       "      <th></th>\n",
       "      <th></th>\n",
       "      <th></th>\n",
       "      <th></th>\n",
       "      <th></th>\n",
       "      <th></th>\n",
       "      <th></th>\n",
       "      <th></th>\n",
       "    </tr>\n",
       "  </thead>\n",
       "  <tbody>\n",
       "    <tr>\n",
       "      <th>0</th>\n",
       "      <td>5.656250</td>\n",
       "      <td>3.2</td>\n",
       "      <td>8.5</td>\n",
       "      <td>138.875000</td>\n",
       "      <td>46</td>\n",
       "      <td>238</td>\n",
       "      <td>73.875000</td>\n",
       "      <td>60</td>\n",
       "      <td>89</td>\n",
       "      <td>18.781250</td>\n",
       "      <td>8.3</td>\n",
       "      <td>29.3</td>\n",
       "    </tr>\n",
       "    <tr>\n",
       "      <th>1</th>\n",
       "      <td>13.937500</td>\n",
       "      <td>8.8</td>\n",
       "      <td>17.4</td>\n",
       "      <td>243.625000</td>\n",
       "      <td>188</td>\n",
       "      <td>337</td>\n",
       "      <td>53.750000</td>\n",
       "      <td>44</td>\n",
       "      <td>66</td>\n",
       "      <td>21.412500</td>\n",
       "      <td>16.1</td>\n",
       "      <td>26.9</td>\n",
       "    </tr>\n",
       "    <tr>\n",
       "      <th>2</th>\n",
       "      <td>10.815385</td>\n",
       "      <td>7.9</td>\n",
       "      <td>15.4</td>\n",
       "      <td>257.384615</td>\n",
       "      <td>178</td>\n",
       "      <td>335</td>\n",
       "      <td>76.000000</td>\n",
       "      <td>48</td>\n",
       "      <td>91</td>\n",
       "      <td>33.192308</td>\n",
       "      <td>24.0</td>\n",
       "      <td>46.0</td>\n",
       "    </tr>\n",
       "    <tr>\n",
       "      <th>3</th>\n",
       "      <td>3.600000</td>\n",
       "      <td>0.8</td>\n",
       "      <td>9.7</td>\n",
       "      <td>78.538462</td>\n",
       "      <td>45</td>\n",
       "      <td>120</td>\n",
       "      <td>52.076923</td>\n",
       "      <td>32</td>\n",
       "      <td>66</td>\n",
       "      <td>12.176923</td>\n",
       "      <td>7.3</td>\n",
       "      <td>16.5</td>\n",
       "    </tr>\n",
       "  </tbody>\n",
       "</table>\n",
       "</div>"
      ],
      "text/plain": [
       "                 Murder                Assault             UrbanPop          \\\n",
       "                   mean  min   max        mean  min  max       mean min max   \n",
       "Kmean_labels                                                                  \n",
       "0              5.656250  3.2   8.5  138.875000   46  238  73.875000  60  89   \n",
       "1             13.937500  8.8  17.4  243.625000  188  337  53.750000  44  66   \n",
       "2             10.815385  7.9  15.4  257.384615  178  335  76.000000  48  91   \n",
       "3              3.600000  0.8   9.7   78.538462   45  120  52.076923  32  66   \n",
       "\n",
       "                   Rape              \n",
       "                   mean   min   max  \n",
       "Kmean_labels                         \n",
       "0             18.781250   8.3  29.3  \n",
       "1             21.412500  16.1  26.9  \n",
       "2             33.192308  24.0  46.0  \n",
       "3             12.176923   7.3  16.5  "
      ]
     },
     "execution_count": 100,
     "metadata": {},
     "output_type": "execute_result"
    }
   ],
   "source": [
    "grp.agg(['mean','min','max'])"
   ]
  },
  {
   "cell_type": "code",
   "execution_count": 133,
   "id": "cabdc1b1",
   "metadata": {},
   "outputs": [],
   "source": [
    "Kmean_standardscaler=silhouette_score(Murder2.iloc[:,1:5], Kmean_labels)"
   ]
  },
  {
   "cell_type": "code",
   "execution_count": 134,
   "id": "212e1759",
   "metadata": {},
   "outputs": [
    {
     "data": {
      "text/plain": [
       "0.21111699937733835"
      ]
     },
     "execution_count": 134,
     "metadata": {},
     "output_type": "execute_result"
    }
   ],
   "source": [
    "Kmean_standardscaler"
   ]
  },
  {
   "cell_type": "markdown",
   "id": "28dbf6ca",
   "metadata": {},
   "source": [
    "# Kmean using MinMax Scaler"
   ]
  },
  {
   "cell_type": "markdown",
   "id": "73a78e03",
   "metadata": {},
   "source": [
    "### Checking best cluster for Kmean by using MinMax Scaler"
   ]
  },
  {
   "cell_type": "code",
   "execution_count": 108,
   "id": "d8dc75d2",
   "metadata": {},
   "outputs": [],
   "source": [
    "wcss = []\n",
    "for i in range(1,15):\n",
    "    Kmeans = KMeans(n_clusters=i, random_state=42)\n",
    "    Kmeans.fit(scaled)\n",
    "    wcss.append(Kmeans.inertia_)"
   ]
  },
  {
   "cell_type": "code",
   "execution_count": 109,
   "id": "b197ab1b",
   "metadata": {},
   "outputs": [
    {
     "data": {
      "text/plain": [
       "[13.184122550256443,\n",
       " 6.596893867946196,\n",
       " 5.01849999148911,\n",
       " 3.6834561535859134,\n",
       " 3.249870851106593,\n",
       " 2.9034793728430444,\n",
       " 2.6533726943439313,\n",
       " 2.3047465440810795,\n",
       " 2.143314848491144,\n",
       " 1.8842960184808821,\n",
       " 1.6724633785361507,\n",
       " 1.591272772205397,\n",
       " 1.4192633376341404,\n",
       " 1.295075194378223]"
      ]
     },
     "execution_count": 109,
     "metadata": {},
     "output_type": "execute_result"
    }
   ],
   "source": [
    "wcss"
   ]
  },
  {
   "cell_type": "code",
   "execution_count": 110,
   "id": "7ee00781",
   "metadata": {},
   "outputs": [
    {
     "data": {
      "image/png": "[encoded data removed]",
      "text/plain": [
       "<Figure size 640x480 with 1 Axes>"
      ]
     },
     "metadata": {},
     "output_type": "display_data"
    }
   ],
   "source": [
    "plt.plot(range(1,15),wcss,color = 'black')\n",
    "plt.scatter(range(1,15),wcss,color='red')\n",
    "plt.title('Elbow Plot for KMeans')\n",
    "plt.xlabel('K Values')\n",
    "plt.ylabel('WCSS')\n",
    "plt.show()"
   ]
  },
  {
   "cell_type": "code",
   "execution_count": 113,
   "id": "7d80938a",
   "metadata": {},
   "outputs": [],
   "source": [
    "final_model_minmax = KMeans(n_clusters=4, random_state=42)\n",
    "final_model_minmax.fit(scaled)\n",
    "Labels_Minmax = final_model_minmax.labels_"
   ]
  },
  {
   "cell_type": "code",
   "execution_count": 114,
   "id": "762a46d7",
   "metadata": {},
   "outputs": [
    {
     "data": {
      "text/plain": [
       "array([2, 1, 1, 2, 1, 1, 3, 3, 1, 2, 3, 0, 1, 3, 0, 3, 0, 2, 0, 1, 3, 1,\n",
       "       0, 2, 3, 0, 0, 1, 0, 3, 1, 1, 2, 0, 3, 3, 3, 3, 3, 2, 0, 2, 1, 3,\n",
       "       0, 3, 3, 0, 0, 3])"
      ]
     },
     "execution_count": 114,
     "metadata": {},
     "output_type": "execute_result"
    }
   ],
   "source": [
    "Labels_Minmax"
   ]
  },
  {
   "cell_type": "code",
   "execution_count": 116,
   "id": "aee817b2",
   "metadata": {},
   "outputs": [],
   "source": [
    "Murder1['Kmeans_Labels_MinMax']= Labels_Minmax"
   ]
  },
  {
   "cell_type": "code",
   "execution_count": 117,
   "id": "fb9f3ca5",
   "metadata": {},
   "outputs": [
    {
     "data": {
      "text/html": [
       "<div>\n",
       "<style scoped>\n",
       "    .dataframe tbody tr th:only-of-type {\n",
       "        vertical-align: middle;\n",
       "    }\n",
       "\n",
       "    .dataframe tbody tr th {\n",
       "        vertical-align: top;\n",
       "    }\n",
       "\n",
       "    .dataframe thead th {\n",
       "        text-align: right;\n",
       "    }\n",
       "</style>\n",
       "<table border=\"1\" class=\"dataframe\">\n",
       "  <thead>\n",
       "    <tr style=\"text-align: right;\">\n",
       "      <th></th>\n",
       "      <th>Place</th>\n",
       "      <th>Murder</th>\n",
       "      <th>Assault</th>\n",
       "      <th>UrbanPop</th>\n",
       "      <th>Rape</th>\n",
       "      <th>Kmean_labels</th>\n",
       "      <th>Kmeans_Labels_MinMax</th>\n",
       "    </tr>\n",
       "  </thead>\n",
       "  <tbody>\n",
       "    <tr>\n",
       "      <th>0</th>\n",
       "      <td>Alabama</td>\n",
       "      <td>13.2</td>\n",
       "      <td>236</td>\n",
       "      <td>58</td>\n",
       "      <td>21.2</td>\n",
       "      <td>1</td>\n",
       "      <td>2</td>\n",
       "    </tr>\n",
       "    <tr>\n",
       "      <th>1</th>\n",
       "      <td>Alaska</td>\n",
       "      <td>10.0</td>\n",
       "      <td>263</td>\n",
       "      <td>48</td>\n",
       "      <td>44.5</td>\n",
       "      <td>2</td>\n",
       "      <td>1</td>\n",
       "    </tr>\n",
       "    <tr>\n",
       "      <th>2</th>\n",
       "      <td>Arizona</td>\n",
       "      <td>8.1</td>\n",
       "      <td>294</td>\n",
       "      <td>80</td>\n",
       "      <td>31.0</td>\n",
       "      <td>2</td>\n",
       "      <td>1</td>\n",
       "    </tr>\n",
       "    <tr>\n",
       "      <th>3</th>\n",
       "      <td>Arkansas</td>\n",
       "      <td>8.8</td>\n",
       "      <td>190</td>\n",
       "      <td>50</td>\n",
       "      <td>19.5</td>\n",
       "      <td>1</td>\n",
       "      <td>2</td>\n",
       "    </tr>\n",
       "    <tr>\n",
       "      <th>4</th>\n",
       "      <td>California</td>\n",
       "      <td>9.0</td>\n",
       "      <td>276</td>\n",
       "      <td>91</td>\n",
       "      <td>40.6</td>\n",
       "      <td>2</td>\n",
       "      <td>1</td>\n",
       "    </tr>\n",
       "  </tbody>\n",
       "</table>\n",
       "</div>"
      ],
      "text/plain": [
       "        Place  Murder  Assault  UrbanPop  Rape  Kmean_labels  \\\n",
       "0     Alabama    13.2      236        58  21.2             1   \n",
       "1      Alaska    10.0      263        48  44.5             2   \n",
       "2     Arizona     8.1      294        80  31.0             2   \n",
       "3    Arkansas     8.8      190        50  19.5             1   \n",
       "4  California     9.0      276        91  40.6             2   \n",
       "\n",
       "   Kmeans_Labels_MinMax  \n",
       "0                     2  \n",
       "1                     1  \n",
       "2                     1  \n",
       "3                     2  \n",
       "4                     1  "
      ]
     },
     "execution_count": 117,
     "metadata": {},
     "output_type": "execute_result"
    }
   ],
   "source": [
    "Murder1.head()"
   ]
  },
  {
   "cell_type": "code",
   "execution_count": 121,
   "id": "f61c7669",
   "metadata": {},
   "outputs": [
    {
     "data": {
      "image/png": "[encoded data removed]",
      "text/plain": [
       "<Figure size 640x480 with 1 Axes>"
      ]
     },
     "metadata": {},
     "output_type": "display_data"
    }
   ],
   "source": [
    "plt.scatter(Murder1['Kmeans_Labels_MinMax'], Murder1.index, c=Labels_Minmax, cmap='rainbow')\n",
    "plt.xticks([0,1,2,3])\n",
    "plt.show()"
   ]
  },
  {
   "cell_type": "code",
   "execution_count": 122,
   "id": "6f0bfdd1",
   "metadata": {},
   "outputs": [
    {
     "data": {
      "text/plain": [
       "<pandas.core.groupby.generic.DataFrameGroupBy object at 0x000001D5F2388D30>"
      ]
     },
     "execution_count": 122,
     "metadata": {},
     "output_type": "execute_result"
    }
   ],
   "source": [
    "kmean_grp_MinMax = Murder1.groupby('Kmeans_Labels_MinMax')\n",
    "kmean_grp_MinMax"
   ]
  },
  {
   "cell_type": "code",
   "execution_count": 123,
   "id": "6d6015fa",
   "metadata": {},
   "outputs": [
    {
     "name": "stdout",
     "output_type": "stream",
     "text": [
      "            Place  Murder  Assault  UrbanPop  Rape  Kmean_labels  \\\n",
      "11          Idaho     2.6      120        54  14.2             3   \n",
      "14           Iowa     2.2       56        57  11.3             3   \n",
      "16       Kentucky     9.7      109        52  16.3             3   \n",
      "18          Maine     2.1       83        51   7.8             3   \n",
      "22      Minnesota     2.7       72        66  14.9             3   \n",
      "25        Montana     6.0      109        53  16.4             3   \n",
      "26       Nebraska     4.3      102        62  16.5             3   \n",
      "28  New Hampshire     2.1       57        56   9.5             3   \n",
      "33   North Dakota     0.8       45        44   7.3             3   \n",
      "40   South Dakota     3.8       86        45  12.8             3   \n",
      "44        Vermont     2.2       48        32  11.2             3   \n",
      "47  West Virginia     5.7       81        39   9.3             3   \n",
      "48      Wisconsin     2.6       53        66  10.8             3   \n",
      "\n",
      "    Kmeans_Labels_MinMax  \n",
      "11                     0  \n",
      "14                     0  \n",
      "16                     0  \n",
      "18                     0  \n",
      "22                     0  \n",
      "25                     0  \n",
      "26                     0  \n",
      "28                     0  \n",
      "33                     0  \n",
      "40                     0  \n",
      "44                     0  \n",
      "47                     0  \n",
      "48                     0  \n",
      "_________________________________________________________________________\n",
      "         Place  Murder  Assault  UrbanPop  Rape  Kmean_labels  \\\n",
      "1       Alaska    10.0      263        48  44.5             2   \n",
      "2      Arizona     8.1      294        80  31.0             2   \n",
      "4   California     9.0      276        91  40.6             2   \n",
      "5     Colorado     7.9      204        78  38.7             2   \n",
      "8      Florida    15.4      335        80  31.9             2   \n",
      "12    Illinois    10.4      249        83  24.0             2   \n",
      "19    Maryland    11.3      300        67  27.8             2   \n",
      "21    Michigan    12.1      255        74  35.1             2   \n",
      "27      Nevada    12.2      252        81  46.0             2   \n",
      "30  New Mexico    11.4      285        70  32.1             2   \n",
      "31    New York    11.1      254        86  26.1             2   \n",
      "42       Texas    12.7      201        80  25.5             2   \n",
      "\n",
      "    Kmeans_Labels_MinMax  \n",
      "1                      1  \n",
      "2                      1  \n",
      "4                      1  \n",
      "5                      1  \n",
      "8                      1  \n",
      "12                     1  \n",
      "19                     1  \n",
      "21                     1  \n",
      "27                     1  \n",
      "30                     1  \n",
      "31                     1  \n",
      "42                     1  \n",
      "_________________________________________________________________________\n",
      "             Place  Murder  Assault  UrbanPop  Rape  Kmean_labels  \\\n",
      "0          Alabama    13.2      236        58  21.2             1   \n",
      "3         Arkansas     8.8      190        50  19.5             1   \n",
      "9          Georgia    17.4      211        60  25.8             1   \n",
      "17       Louisiana    15.4      249        66  22.2             1   \n",
      "23     Mississippi    16.1      259        44  17.1             1   \n",
      "32  North Carolina    13.0      337        45  16.1             1   \n",
      "39  South Carolina    14.4      279        48  22.5             1   \n",
      "41       Tennessee    13.2      188        59  26.9             1   \n",
      "\n",
      "    Kmeans_Labels_MinMax  \n",
      "0                      2  \n",
      "3                      2  \n",
      "9                      2  \n",
      "17                     2  \n",
      "23                     2  \n",
      "32                     2  \n",
      "39                     2  \n",
      "41                     2  \n",
      "_________________________________________________________________________\n",
      "            Place  Murder  Assault  UrbanPop  Rape  Kmean_labels  \\\n",
      "6     Connecticut     3.3      110        77  11.1             0   \n",
      "7        Delaware     5.9      238        72  15.8             0   \n",
      "10         Hawaii     5.3       46        83  20.2             0   \n",
      "13        Indiana     7.2      113        65  21.0             0   \n",
      "15         Kansas     6.0      115        66  18.0             0   \n",
      "20  Massachusetts     4.4      149        85  16.3             0   \n",
      "24       Missouri     9.0      178        70  28.2             2   \n",
      "29     New Jersey     7.4      159        89  18.8             0   \n",
      "34           Ohio     7.3      120        75  21.4             0   \n",
      "35       Oklahoma     6.6      151        68  20.0             0   \n",
      "36         Oregon     4.9      159        67  29.3             0   \n",
      "37   Pennsylvania     6.3      106        72  14.9             0   \n",
      "38   Rhode Island     3.4      174        87   8.3             0   \n",
      "43           Utah     3.2      120        80  22.9             0   \n",
      "45       Virginia     8.5      156        63  20.7             0   \n",
      "46     Washington     4.0      145        73  26.2             0   \n",
      "49        Wyoming     6.8      161        60  15.6             0   \n",
      "\n",
      "    Kmeans_Labels_MinMax  \n",
      "6                      3  \n",
      "7                      3  \n",
      "10                     3  \n",
      "13                     3  \n",
      "15                     3  \n",
      "20                     3  \n",
      "24                     3  \n",
      "29                     3  \n",
      "34                     3  \n",
      "35                     3  \n",
      "36                     3  \n",
      "37                     3  \n",
      "38                     3  \n",
      "43                     3  \n",
      "45                     3  \n",
      "46                     3  \n",
      "49                     3  \n",
      "_________________________________________________________________________\n"
     ]
    }
   ],
   "source": [
    "for c,d in kmean_grp_MinMax:\n",
    "    print(d)\n",
    "    print('_________________________________________________________________________')"
   ]
  },
  {
   "cell_type": "code",
   "execution_count": 124,
   "id": "1132f9f6",
   "metadata": {},
   "outputs": [
    {
     "data": {
      "text/html": [
       "<div>\n",
       "<style scoped>\n",
       "    .dataframe tbody tr th:only-of-type {\n",
       "        vertical-align: middle;\n",
       "    }\n",
       "\n",
       "    .dataframe tbody tr th {\n",
       "        vertical-align: top;\n",
       "    }\n",
       "\n",
       "    .dataframe thead tr th {\n",
       "        text-align: left;\n",
       "    }\n",
       "\n",
       "    .dataframe thead tr:last-of-type th {\n",
       "        text-align: right;\n",
       "    }\n",
       "</style>\n",
       "<table border=\"1\" class=\"dataframe\">\n",
       "  <thead>\n",
       "    <tr>\n",
       "      <th></th>\n",
       "      <th colspan=\"3\" halign=\"left\">Murder</th>\n",
       "      <th colspan=\"3\" halign=\"left\">Assault</th>\n",
       "      <th colspan=\"3\" halign=\"left\">UrbanPop</th>\n",
       "      <th colspan=\"3\" halign=\"left\">Rape</th>\n",
       "      <th colspan=\"3\" halign=\"left\">Kmean_labels</th>\n",
       "    </tr>\n",
       "    <tr>\n",
       "      <th></th>\n",
       "      <th>mean</th>\n",
       "      <th>min</th>\n",
       "      <th>max</th>\n",
       "      <th>mean</th>\n",
       "      <th>min</th>\n",
       "      <th>max</th>\n",
       "      <th>mean</th>\n",
       "      <th>min</th>\n",
       "      <th>max</th>\n",
       "      <th>mean</th>\n",
       "      <th>min</th>\n",
       "      <th>max</th>\n",
       "      <th>mean</th>\n",
       "      <th>min</th>\n",
       "      <th>max</th>\n",
       "    </tr>\n",
       "    <tr>\n",
       "      <th>Kmeans_Labels_MinMax</th>\n",
       "      <th></th>\n",
       "      <th></th>\n",
       "      <th></th>\n",
       "      <th></th>\n",
       "      <th></th>\n",
       "      <th></th>\n",
       "      <th></th>\n",
       "      <th></th>\n",
       "      <th></th>\n",
       "      <th></th>\n",
       "      <th></th>\n",
       "      <th></th>\n",
       "      <th></th>\n",
       "      <th></th>\n",
       "      <th></th>\n",
       "    </tr>\n",
       "  </thead>\n",
       "  <tbody>\n",
       "    <tr>\n",
       "      <th>0</th>\n",
       "      <td>3.600000</td>\n",
       "      <td>0.8</td>\n",
       "      <td>9.7</td>\n",
       "      <td>78.538462</td>\n",
       "      <td>45</td>\n",
       "      <td>120</td>\n",
       "      <td>52.076923</td>\n",
       "      <td>32</td>\n",
       "      <td>66</td>\n",
       "      <td>12.176923</td>\n",
       "      <td>7.3</td>\n",
       "      <td>16.5</td>\n",
       "      <td>3.000000</td>\n",
       "      <td>3</td>\n",
       "      <td>3</td>\n",
       "    </tr>\n",
       "    <tr>\n",
       "      <th>1</th>\n",
       "      <td>10.966667</td>\n",
       "      <td>7.9</td>\n",
       "      <td>15.4</td>\n",
       "      <td>264.000000</td>\n",
       "      <td>201</td>\n",
       "      <td>335</td>\n",
       "      <td>76.500000</td>\n",
       "      <td>48</td>\n",
       "      <td>91</td>\n",
       "      <td>33.608333</td>\n",
       "      <td>24.0</td>\n",
       "      <td>46.0</td>\n",
       "      <td>2.000000</td>\n",
       "      <td>2</td>\n",
       "      <td>2</td>\n",
       "    </tr>\n",
       "    <tr>\n",
       "      <th>2</th>\n",
       "      <td>13.937500</td>\n",
       "      <td>8.8</td>\n",
       "      <td>17.4</td>\n",
       "      <td>243.625000</td>\n",
       "      <td>188</td>\n",
       "      <td>337</td>\n",
       "      <td>53.750000</td>\n",
       "      <td>44</td>\n",
       "      <td>66</td>\n",
       "      <td>21.412500</td>\n",
       "      <td>16.1</td>\n",
       "      <td>26.9</td>\n",
       "      <td>1.000000</td>\n",
       "      <td>1</td>\n",
       "      <td>1</td>\n",
       "    </tr>\n",
       "    <tr>\n",
       "      <th>3</th>\n",
       "      <td>5.852941</td>\n",
       "      <td>3.2</td>\n",
       "      <td>9.0</td>\n",
       "      <td>141.176471</td>\n",
       "      <td>46</td>\n",
       "      <td>238</td>\n",
       "      <td>73.647059</td>\n",
       "      <td>60</td>\n",
       "      <td>89</td>\n",
       "      <td>19.335294</td>\n",
       "      <td>8.3</td>\n",
       "      <td>29.3</td>\n",
       "      <td>0.117647</td>\n",
       "      <td>0</td>\n",
       "      <td>2</td>\n",
       "    </tr>\n",
       "  </tbody>\n",
       "</table>\n",
       "</div>"
      ],
      "text/plain": [
       "                         Murder                Assault             UrbanPop  \\\n",
       "                           mean  min   max        mean  min  max       mean   \n",
       "Kmeans_Labels_MinMax                                                          \n",
       "0                      3.600000  0.8   9.7   78.538462   45  120  52.076923   \n",
       "1                     10.966667  7.9  15.4  264.000000  201  335  76.500000   \n",
       "2                     13.937500  8.8  17.4  243.625000  188  337  53.750000   \n",
       "3                      5.852941  3.2   9.0  141.176471   46  238  73.647059   \n",
       "\n",
       "                                   Rape             Kmean_labels          \n",
       "                     min max       mean   min   max         mean min max  \n",
       "Kmeans_Labels_MinMax                                                      \n",
       "0                     32  66  12.176923   7.3  16.5     3.000000   3   3  \n",
       "1                     48  91  33.608333  24.0  46.0     2.000000   2   2  \n",
       "2                     44  66  21.412500  16.1  26.9     1.000000   1   1  \n",
       "3                     60  89  19.335294   8.3  29.3     0.117647   0   2  "
      ]
     },
     "execution_count": 124,
     "metadata": {},
     "output_type": "execute_result"
    }
   ],
   "source": [
    "kmean_grp_MinMax.agg(['mean','min','max'])"
   ]
  },
  {
   "cell_type": "code",
   "execution_count": 128,
   "id": "c1561c9a",
   "metadata": {},
   "outputs": [],
   "source": [
    "# Evaluating Model\n",
    "Kmean_minmaxscaler =silhouette_score(Murder1.iloc[:,1:5], Labels_Minmax)"
   ]
  },
  {
   "cell_type": "code",
   "execution_count": 129,
   "id": "448e9643",
   "metadata": {},
   "outputs": [
    {
     "data": {
      "text/plain": [
       "0.2333659874278873"
      ]
     },
     "execution_count": 129,
     "metadata": {},
     "output_type": "execute_result"
    }
   ],
   "source": [
    "Kmean_minmaxscaler"
   ]
  },
  {
   "cell_type": "code",
   "execution_count": null,
   "id": "29917f3c",
   "metadata": {},
   "outputs": [],
   "source": []
  },
  {
   "cell_type": "markdown",
   "id": "55d0b99a",
   "metadata": {},
   "source": [
    "## Hierarchical using Standard Scaler"
   ]
  },
  {
   "cell_type": "code",
   "execution_count": 180,
   "id": "de14df26",
   "metadata": {},
   "outputs": [],
   "source": [
    "from sklearn.cluster import AgglomerativeClustering\n",
    "model = AgglomerativeClustering(n_clusters=4, affinity='euclidean', linkage='complete')\n",
    "model.fit(standard_values)\n",
    "Labels_Hierarchical = model.labels_"
   ]
  },
  {
   "cell_type": "code",
   "execution_count": 181,
   "id": "98ba19e6",
   "metadata": {},
   "outputs": [
    {
     "data": {
      "text/plain": [
       "array([0, 0, 2, 1, 2, 2, 1, 1, 2, 0, 1, 3, 2, 1, 3, 1, 1, 0, 3, 2, 1, 2,\n",
       "       1, 0, 1, 3, 3, 2, 3, 1, 2, 2, 0, 3, 1, 1, 1, 1, 1, 0, 3, 0, 2, 1,\n",
       "       3, 1, 1, 3, 1, 1], dtype=int64)"
      ]
     },
     "execution_count": 181,
     "metadata": {},
     "output_type": "execute_result"
    }
   ],
   "source": [
    "Labels_Hierarchical"
   ]
  },
  {
   "cell_type": "code",
   "execution_count": 182,
   "id": "0c91e481",
   "metadata": {},
   "outputs": [],
   "source": [
    "Murder1[\"Labels_Hierarchical\"]= Labels_Hierarchical"
   ]
  },
  {
   "cell_type": "code",
   "execution_count": 183,
   "id": "97b2eb6c",
   "metadata": {},
   "outputs": [
    {
     "data": {
      "text/html": [
       "<div>\n",
       "<style scoped>\n",
       "    .dataframe tbody tr th:only-of-type {\n",
       "        vertical-align: middle;\n",
       "    }\n",
       "\n",
       "    .dataframe tbody tr th {\n",
       "        vertical-align: top;\n",
       "    }\n",
       "\n",
       "    .dataframe thead th {\n",
       "        text-align: right;\n",
       "    }\n",
       "</style>\n",
       "<table border=\"1\" class=\"dataframe\">\n",
       "  <thead>\n",
       "    <tr style=\"text-align: right;\">\n",
       "      <th></th>\n",
       "      <th>Place</th>\n",
       "      <th>Murder</th>\n",
       "      <th>Assault</th>\n",
       "      <th>UrbanPop</th>\n",
       "      <th>Rape</th>\n",
       "      <th>Kmean_labels</th>\n",
       "      <th>Kmeans_Labels_MinMax</th>\n",
       "      <th>Labels_Hierarchical</th>\n",
       "    </tr>\n",
       "  </thead>\n",
       "  <tbody>\n",
       "    <tr>\n",
       "      <th>0</th>\n",
       "      <td>Alabama</td>\n",
       "      <td>13.2</td>\n",
       "      <td>236</td>\n",
       "      <td>58</td>\n",
       "      <td>21.2</td>\n",
       "      <td>1</td>\n",
       "      <td>2</td>\n",
       "      <td>0</td>\n",
       "    </tr>\n",
       "    <tr>\n",
       "      <th>1</th>\n",
       "      <td>Alaska</td>\n",
       "      <td>10.0</td>\n",
       "      <td>263</td>\n",
       "      <td>48</td>\n",
       "      <td>44.5</td>\n",
       "      <td>2</td>\n",
       "      <td>1</td>\n",
       "      <td>0</td>\n",
       "    </tr>\n",
       "    <tr>\n",
       "      <th>2</th>\n",
       "      <td>Arizona</td>\n",
       "      <td>8.1</td>\n",
       "      <td>294</td>\n",
       "      <td>80</td>\n",
       "      <td>31.0</td>\n",
       "      <td>2</td>\n",
       "      <td>1</td>\n",
       "      <td>2</td>\n",
       "    </tr>\n",
       "    <tr>\n",
       "      <th>3</th>\n",
       "      <td>Arkansas</td>\n",
       "      <td>8.8</td>\n",
       "      <td>190</td>\n",
       "      <td>50</td>\n",
       "      <td>19.5</td>\n",
       "      <td>1</td>\n",
       "      <td>2</td>\n",
       "      <td>1</td>\n",
       "    </tr>\n",
       "    <tr>\n",
       "      <th>4</th>\n",
       "      <td>California</td>\n",
       "      <td>9.0</td>\n",
       "      <td>276</td>\n",
       "      <td>91</td>\n",
       "      <td>40.6</td>\n",
       "      <td>2</td>\n",
       "      <td>1</td>\n",
       "      <td>2</td>\n",
       "    </tr>\n",
       "  </tbody>\n",
       "</table>\n",
       "</div>"
      ],
      "text/plain": [
       "        Place  Murder  Assault  UrbanPop  Rape  Kmean_labels  \\\n",
       "0     Alabama    13.2      236        58  21.2             1   \n",
       "1      Alaska    10.0      263        48  44.5             2   \n",
       "2     Arizona     8.1      294        80  31.0             2   \n",
       "3    Arkansas     8.8      190        50  19.5             1   \n",
       "4  California     9.0      276        91  40.6             2   \n",
       "\n",
       "   Kmeans_Labels_MinMax  Labels_Hierarchical  \n",
       "0                     2                    0  \n",
       "1                     1                    0  \n",
       "2                     1                    2  \n",
       "3                     2                    1  \n",
       "4                     1                    2  "
      ]
     },
     "execution_count": 183,
     "metadata": {},
     "output_type": "execute_result"
    }
   ],
   "source": [
    "Murder1.head()"
   ]
  },
  {
   "cell_type": "code",
   "execution_count": 184,
   "id": "cca2f285",
   "metadata": {},
   "outputs": [
    {
     "data": {
      "text/plain": [
       "<pandas.core.groupby.generic.DataFrameGroupBy object at 0x000001D5F25BA2B0>"
      ]
     },
     "execution_count": 184,
     "metadata": {},
     "output_type": "execute_result"
    }
   ],
   "source": [
    "grp1 =Murder1.groupby(['Labels_Hierarchical'])\n",
    "grp1"
   ]
  },
  {
   "cell_type": "code",
   "execution_count": 185,
   "id": "b384e21c",
   "metadata": {},
   "outputs": [
    {
     "name": "stdout",
     "output_type": "stream",
     "text": [
      "             Place  Murder  Assault  UrbanPop  Rape  Kmean_labels  \\\n",
      "0          Alabama    13.2      236        58  21.2             1   \n",
      "1           Alaska    10.0      263        48  44.5             2   \n",
      "9          Georgia    17.4      211        60  25.8             1   \n",
      "17       Louisiana    15.4      249        66  22.2             1   \n",
      "23     Mississippi    16.1      259        44  17.1             1   \n",
      "32  North Carolina    13.0      337        45  16.1             1   \n",
      "39  South Carolina    14.4      279        48  22.5             1   \n",
      "41       Tennessee    13.2      188        59  26.9             1   \n",
      "\n",
      "    Kmeans_Labels_MinMax  Labels_Hierarchical  \n",
      "0                      2                    0  \n",
      "1                      1                    0  \n",
      "9                      2                    0  \n",
      "17                     2                    0  \n",
      "23                     2                    0  \n",
      "32                     2                    0  \n",
      "39                     2                    0  \n",
      "41                     2                    0  \n",
      "_____________________________________________________________________\n",
      "            Place  Murder  Assault  UrbanPop  Rape  Kmean_labels  \\\n",
      "3        Arkansas     8.8      190        50  19.5             1   \n",
      "6     Connecticut     3.3      110        77  11.1             0   \n",
      "7        Delaware     5.9      238        72  15.8             0   \n",
      "10         Hawaii     5.3       46        83  20.2             0   \n",
      "13        Indiana     7.2      113        65  21.0             0   \n",
      "15         Kansas     6.0      115        66  18.0             0   \n",
      "16       Kentucky     9.7      109        52  16.3             3   \n",
      "20  Massachusetts     4.4      149        85  16.3             0   \n",
      "22      Minnesota     2.7       72        66  14.9             3   \n",
      "24       Missouri     9.0      178        70  28.2             2   \n",
      "29     New Jersey     7.4      159        89  18.8             0   \n",
      "34           Ohio     7.3      120        75  21.4             0   \n",
      "35       Oklahoma     6.6      151        68  20.0             0   \n",
      "36         Oregon     4.9      159        67  29.3             0   \n",
      "37   Pennsylvania     6.3      106        72  14.9             0   \n",
      "38   Rhode Island     3.4      174        87   8.3             0   \n",
      "43           Utah     3.2      120        80  22.9             0   \n",
      "45       Virginia     8.5      156        63  20.7             0   \n",
      "46     Washington     4.0      145        73  26.2             0   \n",
      "48      Wisconsin     2.6       53        66  10.8             3   \n",
      "49        Wyoming     6.8      161        60  15.6             0   \n",
      "\n",
      "    Kmeans_Labels_MinMax  Labels_Hierarchical  \n",
      "3                      2                    1  \n",
      "6                      3                    1  \n",
      "7                      3                    1  \n",
      "10                     3                    1  \n",
      "13                     3                    1  \n",
      "15                     3                    1  \n",
      "16                     0                    1  \n",
      "20                     3                    1  \n",
      "22                     0                    1  \n",
      "24                     3                    1  \n",
      "29                     3                    1  \n",
      "34                     3                    1  \n",
      "35                     3                    1  \n",
      "36                     3                    1  \n",
      "37                     3                    1  \n",
      "38                     3                    1  \n",
      "43                     3                    1  \n",
      "45                     3                    1  \n",
      "46                     3                    1  \n",
      "48                     0                    1  \n",
      "49                     3                    1  \n",
      "_____________________________________________________________________\n",
      "         Place  Murder  Assault  UrbanPop  Rape  Kmean_labels  \\\n",
      "2      Arizona     8.1      294        80  31.0             2   \n",
      "4   California     9.0      276        91  40.6             2   \n",
      "5     Colorado     7.9      204        78  38.7             2   \n",
      "8      Florida    15.4      335        80  31.9             2   \n",
      "12    Illinois    10.4      249        83  24.0             2   \n",
      "19    Maryland    11.3      300        67  27.8             2   \n",
      "21    Michigan    12.1      255        74  35.1             2   \n",
      "27      Nevada    12.2      252        81  46.0             2   \n",
      "30  New Mexico    11.4      285        70  32.1             2   \n",
      "31    New York    11.1      254        86  26.1             2   \n",
      "42       Texas    12.7      201        80  25.5             2   \n",
      "\n",
      "    Kmeans_Labels_MinMax  Labels_Hierarchical  \n",
      "2                      1                    2  \n",
      "4                      1                    2  \n",
      "5                      1                    2  \n",
      "8                      1                    2  \n",
      "12                     1                    2  \n",
      "19                     1                    2  \n",
      "21                     1                    2  \n",
      "27                     1                    2  \n",
      "30                     1                    2  \n",
      "31                     1                    2  \n",
      "42                     1                    2  \n",
      "_____________________________________________________________________\n",
      "            Place  Murder  Assault  UrbanPop  Rape  Kmean_labels  \\\n",
      "11          Idaho     2.6      120        54  14.2             3   \n",
      "14           Iowa     2.2       56        57  11.3             3   \n",
      "18          Maine     2.1       83        51   7.8             3   \n",
      "25        Montana     6.0      109        53  16.4             3   \n",
      "26       Nebraska     4.3      102        62  16.5             3   \n",
      "28  New Hampshire     2.1       57        56   9.5             3   \n",
      "33   North Dakota     0.8       45        44   7.3             3   \n",
      "40   South Dakota     3.8       86        45  12.8             3   \n",
      "44        Vermont     2.2       48        32  11.2             3   \n",
      "47  West Virginia     5.7       81        39   9.3             3   \n",
      "\n",
      "    Kmeans_Labels_MinMax  Labels_Hierarchical  \n",
      "11                     0                    3  \n",
      "14                     0                    3  \n",
      "18                     0                    3  \n",
      "25                     0                    3  \n",
      "26                     0                    3  \n",
      "28                     0                    3  \n",
      "33                     0                    3  \n",
      "40                     0                    3  \n",
      "44                     0                    3  \n",
      "47                     0                    3  \n",
      "_____________________________________________________________________\n"
     ]
    }
   ],
   "source": [
    "for a,b in grp1:\n",
    "    print(b)\n",
    "    print(\"_____________________________________________________________________\")"
   ]
  },
  {
   "cell_type": "code",
   "execution_count": 186,
   "id": "e37199c7",
   "metadata": {},
   "outputs": [
    {
     "data": {
      "text/html": [
       "<div>\n",
       "<style scoped>\n",
       "    .dataframe tbody tr th:only-of-type {\n",
       "        vertical-align: middle;\n",
       "    }\n",
       "\n",
       "    .dataframe tbody tr th {\n",
       "        vertical-align: top;\n",
       "    }\n",
       "\n",
       "    .dataframe thead tr th {\n",
       "        text-align: left;\n",
       "    }\n",
       "\n",
       "    .dataframe thead tr:last-of-type th {\n",
       "        text-align: right;\n",
       "    }\n",
       "</style>\n",
       "<table border=\"1\" class=\"dataframe\">\n",
       "  <thead>\n",
       "    <tr>\n",
       "      <th></th>\n",
       "      <th>Murder</th>\n",
       "      <th>Assault</th>\n",
       "      <th>UrbanPop</th>\n",
       "      <th>Rape</th>\n",
       "      <th>Kmean_labels</th>\n",
       "      <th>Kmeans_Labels_MinMax</th>\n",
       "    </tr>\n",
       "    <tr>\n",
       "      <th></th>\n",
       "      <th>mean</th>\n",
       "      <th>mean</th>\n",
       "      <th>mean</th>\n",
       "      <th>mean</th>\n",
       "      <th>mean</th>\n",
       "      <th>mean</th>\n",
       "    </tr>\n",
       "    <tr>\n",
       "      <th>Labels_Hierarchical</th>\n",
       "      <th></th>\n",
       "      <th></th>\n",
       "      <th></th>\n",
       "      <th></th>\n",
       "      <th></th>\n",
       "      <th></th>\n",
       "    </tr>\n",
       "  </thead>\n",
       "  <tbody>\n",
       "    <tr>\n",
       "      <th>0</th>\n",
       "      <td>14.087500</td>\n",
       "      <td>252.750000</td>\n",
       "      <td>53.500000</td>\n",
       "      <td>24.537500</td>\n",
       "      <td>1.125000</td>\n",
       "      <td>1.87500</td>\n",
       "    </tr>\n",
       "    <tr>\n",
       "      <th>1</th>\n",
       "      <td>5.871429</td>\n",
       "      <td>134.476190</td>\n",
       "      <td>70.761905</td>\n",
       "      <td>18.580952</td>\n",
       "      <td>0.571429</td>\n",
       "      <td>2.52381</td>\n",
       "    </tr>\n",
       "    <tr>\n",
       "      <th>2</th>\n",
       "      <td>11.054545</td>\n",
       "      <td>264.090909</td>\n",
       "      <td>79.090909</td>\n",
       "      <td>32.618182</td>\n",
       "      <td>2.000000</td>\n",
       "      <td>1.00000</td>\n",
       "    </tr>\n",
       "    <tr>\n",
       "      <th>3</th>\n",
       "      <td>3.180000</td>\n",
       "      <td>78.700000</td>\n",
       "      <td>49.300000</td>\n",
       "      <td>11.630000</td>\n",
       "      <td>3.000000</td>\n",
       "      <td>0.00000</td>\n",
       "    </tr>\n",
       "  </tbody>\n",
       "</table>\n",
       "</div>"
      ],
      "text/plain": [
       "                        Murder     Assault   UrbanPop       Rape Kmean_labels  \\\n",
       "                          mean        mean       mean       mean         mean   \n",
       "Labels_Hierarchical                                                             \n",
       "0                    14.087500  252.750000  53.500000  24.537500     1.125000   \n",
       "1                     5.871429  134.476190  70.761905  18.580952     0.571429   \n",
       "2                    11.054545  264.090909  79.090909  32.618182     2.000000   \n",
       "3                     3.180000   78.700000  49.300000  11.630000     3.000000   \n",
       "\n",
       "                    Kmeans_Labels_MinMax  \n",
       "                                    mean  \n",
       "Labels_Hierarchical                       \n",
       "0                                1.87500  \n",
       "1                                2.52381  \n",
       "2                                1.00000  \n",
       "3                                0.00000  "
      ]
     },
     "execution_count": 186,
     "metadata": {},
     "output_type": "execute_result"
    }
   ],
   "source": [
    "grp1.agg(['mean'])"
   ]
  },
  {
   "cell_type": "code",
   "execution_count": 187,
   "id": "9ff754db",
   "metadata": {},
   "outputs": [],
   "source": [
    "from scipy.cluster import hierarchy"
   ]
  },
  {
   "cell_type": "code",
   "execution_count": 190,
   "id": "c173fe70",
   "metadata": {},
   "outputs": [
    {
     "data": {
      "image/png": "[encoded data removed]",
      "text/plain": [
       "<Figure size 640x480 with 1 Axes>"
      ]
     },
     "metadata": {},
     "output_type": "display_data"
    }
   ],
   "source": [
    "Diagram = hierarchy.linkage(Murder1.iloc[:,1:5], method='complete')\n",
    "dn = hierarchy.dendrogram(Diagram, color_threshold=150)"
   ]
  },
  {
   "cell_type": "code",
   "execution_count": 198,
   "id": "8c23f5d8",
   "metadata": {},
   "outputs": [
    {
     "data": {
      "text/plain": [
       "0.1543286368547087"
      ]
     },
     "execution_count": 198,
     "metadata": {},
     "output_type": "execute_result"
    }
   ],
   "source": [
    "# Evaluating Model\n",
    "Hierarchical_standard_scale=silhouette_score(Murder1.iloc[:,1:5], Labels_Hierarchical)\n",
    "Hierarchical_standard_scale"
   ]
  },
  {
   "cell_type": "code",
   "execution_count": null,
   "id": "db2963f0",
   "metadata": {},
   "outputs": [],
   "source": []
  },
  {
   "cell_type": "markdown",
   "id": "07d6f896",
   "metadata": {},
   "source": [
    "# Hierarchical using MinMax"
   ]
  },
  {
   "cell_type": "code",
   "execution_count": 216,
   "id": "78547b20",
   "metadata": {},
   "outputs": [],
   "source": [
    "model1 = AgglomerativeClustering(n_clusters=3, affinity='euclidean', linkage='complete')\n",
    "model1.fit(scaled)\n",
    "Labels_Hierarchical_MinMax = model1.labels_"
   ]
  },
  {
   "cell_type": "code",
   "execution_count": 217,
   "id": "0d831c0d",
   "metadata": {},
   "outputs": [
    {
     "data": {
      "text/plain": [
       "array([0, 0, 0, 1, 0, 0, 1, 1, 0, 0, 1, 2, 0, 1, 2, 1, 1, 0, 2, 0, 1, 0,\n",
       "       1, 0, 0, 2, 2, 0, 2, 1, 0, 0, 0, 2, 1, 1, 1, 1, 1, 0, 2, 0, 0, 1,\n",
       "       2, 1, 1, 2, 1, 1], dtype=int64)"
      ]
     },
     "execution_count": 217,
     "metadata": {},
     "output_type": "execute_result"
    }
   ],
   "source": [
    "Labels_Hierarchical_MinMax"
   ]
  },
  {
   "cell_type": "code",
   "execution_count": 218,
   "id": "a8b7978d",
   "metadata": {},
   "outputs": [],
   "source": [
    "Murder1[\"Labels_Hierarchical_MinMax\"]= Labels_Hierarchical_MinMax"
   ]
  },
  {
   "cell_type": "code",
   "execution_count": 219,
   "id": "c46cd424",
   "metadata": {},
   "outputs": [
    {
     "data": {
      "text/html": [
       "<div>\n",
       "<style scoped>\n",
       "    .dataframe tbody tr th:only-of-type {\n",
       "        vertical-align: middle;\n",
       "    }\n",
       "\n",
       "    .dataframe tbody tr th {\n",
       "        vertical-align: top;\n",
       "    }\n",
       "\n",
       "    .dataframe thead th {\n",
       "        text-align: right;\n",
       "    }\n",
       "</style>\n",
       "<table border=\"1\" class=\"dataframe\">\n",
       "  <thead>\n",
       "    <tr style=\"text-align: right;\">\n",
       "      <th></th>\n",
       "      <th>Place</th>\n",
       "      <th>Murder</th>\n",
       "      <th>Assault</th>\n",
       "      <th>UrbanPop</th>\n",
       "      <th>Rape</th>\n",
       "      <th>Kmean_labels</th>\n",
       "      <th>Kmeans_Labels_MinMax</th>\n",
       "      <th>Labels_Hierarchical</th>\n",
       "      <th>Labels_Hierarchical_MinMax</th>\n",
       "    </tr>\n",
       "  </thead>\n",
       "  <tbody>\n",
       "    <tr>\n",
       "      <th>0</th>\n",
       "      <td>Alabama</td>\n",
       "      <td>13.2</td>\n",
       "      <td>236</td>\n",
       "      <td>58</td>\n",
       "      <td>21.2</td>\n",
       "      <td>1</td>\n",
       "      <td>2</td>\n",
       "      <td>0</td>\n",
       "      <td>0</td>\n",
       "    </tr>\n",
       "    <tr>\n",
       "      <th>1</th>\n",
       "      <td>Alaska</td>\n",
       "      <td>10.0</td>\n",
       "      <td>263</td>\n",
       "      <td>48</td>\n",
       "      <td>44.5</td>\n",
       "      <td>2</td>\n",
       "      <td>1</td>\n",
       "      <td>0</td>\n",
       "      <td>0</td>\n",
       "    </tr>\n",
       "    <tr>\n",
       "      <th>2</th>\n",
       "      <td>Arizona</td>\n",
       "      <td>8.1</td>\n",
       "      <td>294</td>\n",
       "      <td>80</td>\n",
       "      <td>31.0</td>\n",
       "      <td>2</td>\n",
       "      <td>1</td>\n",
       "      <td>2</td>\n",
       "      <td>0</td>\n",
       "    </tr>\n",
       "    <tr>\n",
       "      <th>3</th>\n",
       "      <td>Arkansas</td>\n",
       "      <td>8.8</td>\n",
       "      <td>190</td>\n",
       "      <td>50</td>\n",
       "      <td>19.5</td>\n",
       "      <td>1</td>\n",
       "      <td>2</td>\n",
       "      <td>1</td>\n",
       "      <td>1</td>\n",
       "    </tr>\n",
       "    <tr>\n",
       "      <th>4</th>\n",
       "      <td>California</td>\n",
       "      <td>9.0</td>\n",
       "      <td>276</td>\n",
       "      <td>91</td>\n",
       "      <td>40.6</td>\n",
       "      <td>2</td>\n",
       "      <td>1</td>\n",
       "      <td>2</td>\n",
       "      <td>0</td>\n",
       "    </tr>\n",
       "  </tbody>\n",
       "</table>\n",
       "</div>"
      ],
      "text/plain": [
       "        Place  Murder  Assault  UrbanPop  Rape  Kmean_labels  \\\n",
       "0     Alabama    13.2      236        58  21.2             1   \n",
       "1      Alaska    10.0      263        48  44.5             2   \n",
       "2     Arizona     8.1      294        80  31.0             2   \n",
       "3    Arkansas     8.8      190        50  19.5             1   \n",
       "4  California     9.0      276        91  40.6             2   \n",
       "\n",
       "   Kmeans_Labels_MinMax  Labels_Hierarchical  Labels_Hierarchical_MinMax  \n",
       "0                     2                    0                           0  \n",
       "1                     1                    0                           0  \n",
       "2                     1                    2                           0  \n",
       "3                     2                    1                           1  \n",
       "4                     1                    2                           0  "
      ]
     },
     "execution_count": 219,
     "metadata": {},
     "output_type": "execute_result"
    }
   ],
   "source": [
    "Murder1.head()"
   ]
  },
  {
   "cell_type": "code",
   "execution_count": 220,
   "id": "a2fca07f",
   "metadata": {},
   "outputs": [
    {
     "data": {
      "text/plain": [
       "<pandas.core.groupby.generic.DataFrameGroupBy object at 0x000001D5F2B10DF0>"
      ]
     },
     "execution_count": 220,
     "metadata": {},
     "output_type": "execute_result"
    }
   ],
   "source": [
    "grp2 =Murder1.groupby(['Labels_Hierarchical_MinMax'])\n",
    "grp2"
   ]
  },
  {
   "cell_type": "code",
   "execution_count": 221,
   "id": "e6ca1f51",
   "metadata": {},
   "outputs": [
    {
     "name": "stdout",
     "output_type": "stream",
     "text": [
      "             Place  Murder  Assault  UrbanPop  Rape  Kmean_labels  \\\n",
      "0          Alabama    13.2      236        58  21.2             1   \n",
      "1           Alaska    10.0      263        48  44.5             2   \n",
      "9          Georgia    17.4      211        60  25.8             1   \n",
      "17       Louisiana    15.4      249        66  22.2             1   \n",
      "23     Mississippi    16.1      259        44  17.1             1   \n",
      "32  North Carolina    13.0      337        45  16.1             1   \n",
      "39  South Carolina    14.4      279        48  22.5             1   \n",
      "41       Tennessee    13.2      188        59  26.9             1   \n",
      "\n",
      "    Kmeans_Labels_MinMax  Labels_Hierarchical  Labels_Hierarchical_MinMax  \n",
      "0                      2                    0                           0  \n",
      "1                      1                    0                           0  \n",
      "9                      2                    0                           0  \n",
      "17                     2                    0                           0  \n",
      "23                     2                    0                           0  \n",
      "32                     2                    0                           0  \n",
      "39                     2                    0                           0  \n",
      "41                     2                    0                           0  \n",
      "_____________________________________________________________________\n",
      "            Place  Murder  Assault  UrbanPop  Rape  Kmean_labels  \\\n",
      "3        Arkansas     8.8      190        50  19.5             1   \n",
      "6     Connecticut     3.3      110        77  11.1             0   \n",
      "7        Delaware     5.9      238        72  15.8             0   \n",
      "10         Hawaii     5.3       46        83  20.2             0   \n",
      "13        Indiana     7.2      113        65  21.0             0   \n",
      "15         Kansas     6.0      115        66  18.0             0   \n",
      "16       Kentucky     9.7      109        52  16.3             3   \n",
      "20  Massachusetts     4.4      149        85  16.3             0   \n",
      "22      Minnesota     2.7       72        66  14.9             3   \n",
      "24       Missouri     9.0      178        70  28.2             2   \n",
      "29     New Jersey     7.4      159        89  18.8             0   \n",
      "34           Ohio     7.3      120        75  21.4             0   \n",
      "35       Oklahoma     6.6      151        68  20.0             0   \n",
      "36         Oregon     4.9      159        67  29.3             0   \n",
      "37   Pennsylvania     6.3      106        72  14.9             0   \n",
      "38   Rhode Island     3.4      174        87   8.3             0   \n",
      "43           Utah     3.2      120        80  22.9             0   \n",
      "45       Virginia     8.5      156        63  20.7             0   \n",
      "46     Washington     4.0      145        73  26.2             0   \n",
      "48      Wisconsin     2.6       53        66  10.8             3   \n",
      "49        Wyoming     6.8      161        60  15.6             0   \n",
      "\n",
      "    Kmeans_Labels_MinMax  Labels_Hierarchical  Labels_Hierarchical_MinMax  \n",
      "3                      2                    1                           1  \n",
      "6                      3                    1                           1  \n",
      "7                      3                    1                           1  \n",
      "10                     3                    1                           1  \n",
      "13                     3                    1                           1  \n",
      "15                     3                    1                           1  \n",
      "16                     0                    1                           1  \n",
      "20                     3                    1                           1  \n",
      "22                     0                    1                           1  \n",
      "24                     3                    1                           0  \n",
      "29                     3                    1                           1  \n",
      "34                     3                    1                           1  \n",
      "35                     3                    1                           1  \n",
      "36                     3                    1                           1  \n",
      "37                     3                    1                           1  \n",
      "38                     3                    1                           1  \n",
      "43                     3                    1                           1  \n",
      "45                     3                    1                           1  \n",
      "46                     3                    1                           1  \n",
      "48                     0                    1                           1  \n",
      "49                     3                    1                           1  \n",
      "_____________________________________________________________________\n",
      "         Place  Murder  Assault  UrbanPop  Rape  Kmean_labels  \\\n",
      "2      Arizona     8.1      294        80  31.0             2   \n",
      "4   California     9.0      276        91  40.6             2   \n",
      "5     Colorado     7.9      204        78  38.7             2   \n",
      "8      Florida    15.4      335        80  31.9             2   \n",
      "12    Illinois    10.4      249        83  24.0             2   \n",
      "19    Maryland    11.3      300        67  27.8             2   \n",
      "21    Michigan    12.1      255        74  35.1             2   \n",
      "27      Nevada    12.2      252        81  46.0             2   \n",
      "30  New Mexico    11.4      285        70  32.1             2   \n",
      "31    New York    11.1      254        86  26.1             2   \n",
      "42       Texas    12.7      201        80  25.5             2   \n",
      "\n",
      "    Kmeans_Labels_MinMax  Labels_Hierarchical  Labels_Hierarchical_MinMax  \n",
      "2                      1                    2                           0  \n",
      "4                      1                    2                           0  \n",
      "5                      1                    2                           0  \n",
      "8                      1                    2                           0  \n",
      "12                     1                    2                           0  \n",
      "19                     1                    2                           0  \n",
      "21                     1                    2                           0  \n",
      "27                     1                    2                           0  \n",
      "30                     1                    2                           0  \n",
      "31                     1                    2                           0  \n",
      "42                     1                    2                           0  \n",
      "_____________________________________________________________________\n",
      "            Place  Murder  Assault  UrbanPop  Rape  Kmean_labels  \\\n",
      "11          Idaho     2.6      120        54  14.2             3   \n",
      "14           Iowa     2.2       56        57  11.3             3   \n",
      "18          Maine     2.1       83        51   7.8             3   \n",
      "25        Montana     6.0      109        53  16.4             3   \n",
      "26       Nebraska     4.3      102        62  16.5             3   \n",
      "28  New Hampshire     2.1       57        56   9.5             3   \n",
      "33   North Dakota     0.8       45        44   7.3             3   \n",
      "40   South Dakota     3.8       86        45  12.8             3   \n",
      "44        Vermont     2.2       48        32  11.2             3   \n",
      "47  West Virginia     5.7       81        39   9.3             3   \n",
      "\n",
      "    Kmeans_Labels_MinMax  Labels_Hierarchical  Labels_Hierarchical_MinMax  \n",
      "11                     0                    3                           2  \n",
      "14                     0                    3                           2  \n",
      "18                     0                    3                           2  \n",
      "25                     0                    3                           2  \n",
      "26                     0                    3                           2  \n",
      "28                     0                    3                           2  \n",
      "33                     0                    3                           2  \n",
      "40                     0                    3                           2  \n",
      "44                     0                    3                           2  \n",
      "47                     0                    3                           2  \n",
      "_____________________________________________________________________\n"
     ]
    }
   ],
   "source": [
    "for k,l in grp1:\n",
    "    print(l)\n",
    "    print(\"_____________________________________________________________________\")"
   ]
  },
  {
   "cell_type": "code",
   "execution_count": 222,
   "id": "15ef1c5f",
   "metadata": {},
   "outputs": [
    {
     "data": {
      "text/html": [
       "<div>\n",
       "<style scoped>\n",
       "    .dataframe tbody tr th:only-of-type {\n",
       "        vertical-align: middle;\n",
       "    }\n",
       "\n",
       "    .dataframe tbody tr th {\n",
       "        vertical-align: top;\n",
       "    }\n",
       "\n",
       "    .dataframe thead tr th {\n",
       "        text-align: left;\n",
       "    }\n",
       "\n",
       "    .dataframe thead tr:last-of-type th {\n",
       "        text-align: right;\n",
       "    }\n",
       "</style>\n",
       "<table border=\"1\" class=\"dataframe\">\n",
       "  <thead>\n",
       "    <tr>\n",
       "      <th></th>\n",
       "      <th>Murder</th>\n",
       "      <th>Assault</th>\n",
       "      <th>UrbanPop</th>\n",
       "      <th>Rape</th>\n",
       "      <th>Kmean_labels</th>\n",
       "      <th>Kmeans_Labels_MinMax</th>\n",
       "      <th>Labels_Hierarchical</th>\n",
       "    </tr>\n",
       "    <tr>\n",
       "      <th></th>\n",
       "      <th>mean</th>\n",
       "      <th>mean</th>\n",
       "      <th>mean</th>\n",
       "      <th>mean</th>\n",
       "      <th>mean</th>\n",
       "      <th>mean</th>\n",
       "      <th>mean</th>\n",
       "    </tr>\n",
       "    <tr>\n",
       "      <th>Labels_Hierarchical_MinMax</th>\n",
       "      <th></th>\n",
       "      <th></th>\n",
       "      <th></th>\n",
       "      <th></th>\n",
       "      <th></th>\n",
       "      <th></th>\n",
       "      <th></th>\n",
       "    </tr>\n",
       "  </thead>\n",
       "  <tbody>\n",
       "    <tr>\n",
       "      <th>0</th>\n",
       "      <td>12.165</td>\n",
       "      <td>255.25</td>\n",
       "      <td>68.4</td>\n",
       "      <td>29.165</td>\n",
       "      <td>1.65</td>\n",
       "      <td>1.45</td>\n",
       "      <td>1.15</td>\n",
       "    </tr>\n",
       "    <tr>\n",
       "      <th>1</th>\n",
       "      <td>5.715</td>\n",
       "      <td>132.30</td>\n",
       "      <td>70.8</td>\n",
       "      <td>18.100</td>\n",
       "      <td>0.50</td>\n",
       "      <td>2.50</td>\n",
       "      <td>1.00</td>\n",
       "    </tr>\n",
       "    <tr>\n",
       "      <th>2</th>\n",
       "      <td>3.180</td>\n",
       "      <td>78.70</td>\n",
       "      <td>49.3</td>\n",
       "      <td>11.630</td>\n",
       "      <td>3.00</td>\n",
       "      <td>0.00</td>\n",
       "      <td>3.00</td>\n",
       "    </tr>\n",
       "  </tbody>\n",
       "</table>\n",
       "</div>"
      ],
      "text/plain": [
       "                            Murder Assault UrbanPop    Rape Kmean_labels  \\\n",
       "                              mean    mean     mean    mean         mean   \n",
       "Labels_Hierarchical_MinMax                                                 \n",
       "0                           12.165  255.25     68.4  29.165         1.65   \n",
       "1                            5.715  132.30     70.8  18.100         0.50   \n",
       "2                            3.180   78.70     49.3  11.630         3.00   \n",
       "\n",
       "                           Kmeans_Labels_MinMax Labels_Hierarchical  \n",
       "                                           mean                mean  \n",
       "Labels_Hierarchical_MinMax                                           \n",
       "0                                          1.45                1.15  \n",
       "1                                          2.50                1.00  \n",
       "2                                          0.00                3.00  "
      ]
     },
     "execution_count": 222,
     "metadata": {},
     "output_type": "execute_result"
    }
   ],
   "source": [
    "grp2.agg(['mean'])"
   ]
  },
  {
   "cell_type": "code",
   "execution_count": 223,
   "id": "973bc026",
   "metadata": {},
   "outputs": [
    {
     "data": {
      "image/png": "[encoded data removed]",
      "text/plain": [
       "<Figure size 640x480 with 1 Axes>"
      ]
     },
     "metadata": {},
     "output_type": "display_data"
    }
   ],
   "source": [
    "Diagram = hierarchy.linkage(Murder1.iloc[:,1:5], method='average')\n",
    "dn = hierarchy.dendrogram(Diagram, color_threshold=150)"
   ]
  },
  {
   "cell_type": "code",
   "execution_count": 224,
   "id": "38f5de9d",
   "metadata": {},
   "outputs": [],
   "source": [
    "Hierarchical_MinMax = silhouette_score(Murder1.iloc[:,1:5], Labels_Hierarchical_MinMax)"
   ]
  },
  {
   "cell_type": "code",
   "execution_count": 225,
   "id": "8039b12a",
   "metadata": {},
   "outputs": [
    {
     "data": {
      "text/plain": [
       "0.30393982982293066"
      ]
     },
     "execution_count": 225,
     "metadata": {},
     "output_type": "execute_result"
    }
   ],
   "source": [
    "Hierarchical_MinMax"
   ]
  },
  {
   "cell_type": "code",
   "execution_count": null,
   "id": "a1710b93",
   "metadata": {},
   "outputs": [],
   "source": []
  },
  {
   "cell_type": "markdown",
   "id": "692b84dd",
   "metadata": {},
   "source": [
    "## DBSCAN using Standard Scaler"
   ]
  },
  {
   "cell_type": "code",
   "execution_count": 227,
   "id": "e05ef890",
   "metadata": {},
   "outputs": [],
   "source": [
    "Dbscan=DBSCAN(eps=2,min_samples=23)\n",
    "Dbscan.fit(standard_values)\n",
    "Labels_dbscan = Dbscan.labels_"
   ]
  },
  {
   "cell_type": "code",
   "execution_count": 228,
   "id": "b66c696a",
   "metadata": {},
   "outputs": [
    {
     "data": {
      "text/plain": [
       "array([ 0, -1,  0,  0, -1,  0,  0,  0, -1, -1,  0,  0,  0,  0,  0,  0,  0,\n",
       "        0,  0,  0,  0,  0,  0, -1,  0,  0,  0, -1,  0,  0,  0,  0, -1,  0,\n",
       "        0,  0,  0,  0,  0, -1,  0,  0,  0,  0,  0,  0,  0,  0,  0,  0],\n",
       "      dtype=int64)"
      ]
     },
     "execution_count": 228,
     "metadata": {},
     "output_type": "execute_result"
    }
   ],
   "source": [
    "Labels_dbscan"
   ]
  },
  {
   "cell_type": "code",
   "execution_count": 229,
   "id": "e7d57e8d",
   "metadata": {},
   "outputs": [],
   "source": [
    "Murder1['Dbscan_Labels']=Labels_dbscan"
   ]
  },
  {
   "cell_type": "code",
   "execution_count": 230,
   "id": "5fdd9aae",
   "metadata": {},
   "outputs": [
    {
     "data": {
      "text/html": [
       "<div>\n",
       "<style scoped>\n",
       "    .dataframe tbody tr th:only-of-type {\n",
       "        vertical-align: middle;\n",
       "    }\n",
       "\n",
       "    .dataframe tbody tr th {\n",
       "        vertical-align: top;\n",
       "    }\n",
       "\n",
       "    .dataframe thead th {\n",
       "        text-align: right;\n",
       "    }\n",
       "</style>\n",
       "<table border=\"1\" class=\"dataframe\">\n",
       "  <thead>\n",
       "    <tr style=\"text-align: right;\">\n",
       "      <th></th>\n",
       "      <th>Place</th>\n",
       "      <th>Murder</th>\n",
       "      <th>Assault</th>\n",
       "      <th>UrbanPop</th>\n",
       "      <th>Rape</th>\n",
       "      <th>Kmean_labels</th>\n",
       "      <th>Kmeans_Labels_MinMax</th>\n",
       "      <th>Labels_Hierarchical</th>\n",
       "      <th>Labels_Hierarchical_MinMax</th>\n",
       "      <th>Dbscan_Labels</th>\n",
       "    </tr>\n",
       "  </thead>\n",
       "  <tbody>\n",
       "    <tr>\n",
       "      <th>0</th>\n",
       "      <td>Alabama</td>\n",
       "      <td>13.2</td>\n",
       "      <td>236</td>\n",
       "      <td>58</td>\n",
       "      <td>21.2</td>\n",
       "      <td>1</td>\n",
       "      <td>2</td>\n",
       "      <td>0</td>\n",
       "      <td>0</td>\n",
       "      <td>0</td>\n",
       "    </tr>\n",
       "    <tr>\n",
       "      <th>1</th>\n",
       "      <td>Alaska</td>\n",
       "      <td>10.0</td>\n",
       "      <td>263</td>\n",
       "      <td>48</td>\n",
       "      <td>44.5</td>\n",
       "      <td>2</td>\n",
       "      <td>1</td>\n",
       "      <td>0</td>\n",
       "      <td>0</td>\n",
       "      <td>-1</td>\n",
       "    </tr>\n",
       "    <tr>\n",
       "      <th>2</th>\n",
       "      <td>Arizona</td>\n",
       "      <td>8.1</td>\n",
       "      <td>294</td>\n",
       "      <td>80</td>\n",
       "      <td>31.0</td>\n",
       "      <td>2</td>\n",
       "      <td>1</td>\n",
       "      <td>2</td>\n",
       "      <td>0</td>\n",
       "      <td>0</td>\n",
       "    </tr>\n",
       "    <tr>\n",
       "      <th>3</th>\n",
       "      <td>Arkansas</td>\n",
       "      <td>8.8</td>\n",
       "      <td>190</td>\n",
       "      <td>50</td>\n",
       "      <td>19.5</td>\n",
       "      <td>1</td>\n",
       "      <td>2</td>\n",
       "      <td>1</td>\n",
       "      <td>1</td>\n",
       "      <td>0</td>\n",
       "    </tr>\n",
       "    <tr>\n",
       "      <th>4</th>\n",
       "      <td>California</td>\n",
       "      <td>9.0</td>\n",
       "      <td>276</td>\n",
       "      <td>91</td>\n",
       "      <td>40.6</td>\n",
       "      <td>2</td>\n",
       "      <td>1</td>\n",
       "      <td>2</td>\n",
       "      <td>0</td>\n",
       "      <td>-1</td>\n",
       "    </tr>\n",
       "  </tbody>\n",
       "</table>\n",
       "</div>"
      ],
      "text/plain": [
       "        Place  Murder  Assault  UrbanPop  Rape  Kmean_labels  \\\n",
       "0     Alabama    13.2      236        58  21.2             1   \n",
       "1      Alaska    10.0      263        48  44.5             2   \n",
       "2     Arizona     8.1      294        80  31.0             2   \n",
       "3    Arkansas     8.8      190        50  19.5             1   \n",
       "4  California     9.0      276        91  40.6             2   \n",
       "\n",
       "   Kmeans_Labels_MinMax  Labels_Hierarchical  Labels_Hierarchical_MinMax  \\\n",
       "0                     2                    0                           0   \n",
       "1                     1                    0                           0   \n",
       "2                     1                    2                           0   \n",
       "3                     2                    1                           1   \n",
       "4                     1                    2                           0   \n",
       "\n",
       "   Dbscan_Labels  \n",
       "0              0  \n",
       "1             -1  \n",
       "2              0  \n",
       "3              0  \n",
       "4             -1  "
      ]
     },
     "execution_count": 230,
     "metadata": {},
     "output_type": "execute_result"
    }
   ],
   "source": [
    "Murder1.head()"
   ]
  },
  {
   "cell_type": "code",
   "execution_count": 235,
   "id": "e16cc45b",
   "metadata": {},
   "outputs": [
    {
     "data": {
      "text/plain": [
       "<pandas.core.groupby.generic.DataFrameGroupBy object at 0x000001D5F0EF5EE0>"
      ]
     },
     "execution_count": 235,
     "metadata": {},
     "output_type": "execute_result"
    }
   ],
   "source": [
    "grp3 = Murder1.groupby(['Dbscan_Labels'])\n",
    "grp3"
   ]
  },
  {
   "cell_type": "code",
   "execution_count": 236,
   "id": "9996ae23",
   "metadata": {},
   "outputs": [
    {
     "name": "stdout",
     "output_type": "stream",
     "text": [
      "            Place  Murder  Assault  UrbanPop  Rape  Kmean_labels  \\\n",
      "6     Connecticut     3.3      110        77  11.1             0   \n",
      "7        Delaware     5.9      238        72  15.8             0   \n",
      "10         Hawaii     5.3       46        83  20.2             0   \n",
      "13        Indiana     7.2      113        65  21.0             0   \n",
      "15         Kansas     6.0      115        66  18.0             0   \n",
      "20  Massachusetts     4.4      149        85  16.3             0   \n",
      "29     New Jersey     7.4      159        89  18.8             0   \n",
      "34           Ohio     7.3      120        75  21.4             0   \n",
      "35       Oklahoma     6.6      151        68  20.0             0   \n",
      "36         Oregon     4.9      159        67  29.3             0   \n",
      "37   Pennsylvania     6.3      106        72  14.9             0   \n",
      "38   Rhode Island     3.4      174        87   8.3             0   \n",
      "43           Utah     3.2      120        80  22.9             0   \n",
      "45       Virginia     8.5      156        63  20.7             0   \n",
      "46     Washington     4.0      145        73  26.2             0   \n",
      "49        Wyoming     6.8      161        60  15.6             0   \n",
      "\n",
      "    Kmeans_Labels_MinMax  Labels_Hierarchical  Labels_Hierarchical_MinMax  \\\n",
      "6                      3                    1                           1   \n",
      "7                      3                    1                           1   \n",
      "10                     3                    1                           1   \n",
      "13                     3                    1                           1   \n",
      "15                     3                    1                           1   \n",
      "20                     3                    1                           1   \n",
      "29                     3                    1                           1   \n",
      "34                     3                    1                           1   \n",
      "35                     3                    1                           1   \n",
      "36                     3                    1                           1   \n",
      "37                     3                    1                           1   \n",
      "38                     3                    1                           1   \n",
      "43                     3                    1                           1   \n",
      "45                     3                    1                           1   \n",
      "46                     3                    1                           1   \n",
      "49                     3                    1                           1   \n",
      "\n",
      "    Dbscan_Labels  \n",
      "6               0  \n",
      "7               0  \n",
      "10              0  \n",
      "13              0  \n",
      "15              0  \n",
      "20              0  \n",
      "29              0  \n",
      "34              0  \n",
      "35              0  \n",
      "36              0  \n",
      "37              0  \n",
      "38              0  \n",
      "43              0  \n",
      "45              0  \n",
      "46              0  \n",
      "49              0  \n",
      "_____________________________________________________________________\n",
      "             Place  Murder  Assault  UrbanPop  Rape  Kmean_labels  \\\n",
      "0          Alabama    13.2      236        58  21.2             1   \n",
      "3         Arkansas     8.8      190        50  19.5             1   \n",
      "9          Georgia    17.4      211        60  25.8             1   \n",
      "17       Louisiana    15.4      249        66  22.2             1   \n",
      "23     Mississippi    16.1      259        44  17.1             1   \n",
      "32  North Carolina    13.0      337        45  16.1             1   \n",
      "39  South Carolina    14.4      279        48  22.5             1   \n",
      "41       Tennessee    13.2      188        59  26.9             1   \n",
      "\n",
      "    Kmeans_Labels_MinMax  Labels_Hierarchical  Labels_Hierarchical_MinMax  \\\n",
      "0                      2                    0                           0   \n",
      "3                      2                    1                           1   \n",
      "9                      2                    0                           0   \n",
      "17                     2                    0                           0   \n",
      "23                     2                    0                           0   \n",
      "32                     2                    0                           0   \n",
      "39                     2                    0                           0   \n",
      "41                     2                    0                           0   \n",
      "\n",
      "    Dbscan_Labels  \n",
      "0               0  \n",
      "3               0  \n",
      "9              -1  \n",
      "17              0  \n",
      "23             -1  \n",
      "32             -1  \n",
      "39             -1  \n",
      "41              0  \n",
      "_____________________________________________________________________\n",
      "         Place  Murder  Assault  UrbanPop  Rape  Kmean_labels  \\\n",
      "1       Alaska    10.0      263        48  44.5             2   \n",
      "2      Arizona     8.1      294        80  31.0             2   \n",
      "4   California     9.0      276        91  40.6             2   \n",
      "5     Colorado     7.9      204        78  38.7             2   \n",
      "8      Florida    15.4      335        80  31.9             2   \n",
      "12    Illinois    10.4      249        83  24.0             2   \n",
      "19    Maryland    11.3      300        67  27.8             2   \n",
      "21    Michigan    12.1      255        74  35.1             2   \n",
      "24    Missouri     9.0      178        70  28.2             2   \n",
      "27      Nevada    12.2      252        81  46.0             2   \n",
      "30  New Mexico    11.4      285        70  32.1             2   \n",
      "31    New York    11.1      254        86  26.1             2   \n",
      "42       Texas    12.7      201        80  25.5             2   \n",
      "\n",
      "    Kmeans_Labels_MinMax  Labels_Hierarchical  Labels_Hierarchical_MinMax  \\\n",
      "1                      1                    0                           0   \n",
      "2                      1                    2                           0   \n",
      "4                      1                    2                           0   \n",
      "5                      1                    2                           0   \n",
      "8                      1                    2                           0   \n",
      "12                     1                    2                           0   \n",
      "19                     1                    2                           0   \n",
      "21                     1                    2                           0   \n",
      "24                     3                    1                           0   \n",
      "27                     1                    2                           0   \n",
      "30                     1                    2                           0   \n",
      "31                     1                    2                           0   \n",
      "42                     1                    2                           0   \n",
      "\n",
      "    Dbscan_Labels  \n",
      "1              -1  \n",
      "2               0  \n",
      "4              -1  \n",
      "5               0  \n",
      "8              -1  \n",
      "12              0  \n",
      "19              0  \n",
      "21              0  \n",
      "24              0  \n",
      "27             -1  \n",
      "30              0  \n",
      "31              0  \n",
      "42              0  \n",
      "_____________________________________________________________________\n",
      "            Place  Murder  Assault  UrbanPop  Rape  Kmean_labels  \\\n",
      "11          Idaho     2.6      120        54  14.2             3   \n",
      "14           Iowa     2.2       56        57  11.3             3   \n",
      "16       Kentucky     9.7      109        52  16.3             3   \n",
      "18          Maine     2.1       83        51   7.8             3   \n",
      "22      Minnesota     2.7       72        66  14.9             3   \n",
      "25        Montana     6.0      109        53  16.4             3   \n",
      "26       Nebraska     4.3      102        62  16.5             3   \n",
      "28  New Hampshire     2.1       57        56   9.5             3   \n",
      "33   North Dakota     0.8       45        44   7.3             3   \n",
      "40   South Dakota     3.8       86        45  12.8             3   \n",
      "44        Vermont     2.2       48        32  11.2             3   \n",
      "47  West Virginia     5.7       81        39   9.3             3   \n",
      "48      Wisconsin     2.6       53        66  10.8             3   \n",
      "\n",
      "    Kmeans_Labels_MinMax  Labels_Hierarchical  Labels_Hierarchical_MinMax  \\\n",
      "11                     0                    3                           2   \n",
      "14                     0                    3                           2   \n",
      "16                     0                    1                           1   \n",
      "18                     0                    3                           2   \n",
      "22                     0                    1                           1   \n",
      "25                     0                    3                           2   \n",
      "26                     0                    3                           2   \n",
      "28                     0                    3                           2   \n",
      "33                     0                    3                           2   \n",
      "40                     0                    3                           2   \n",
      "44                     0                    3                           2   \n",
      "47                     0                    3                           2   \n",
      "48                     0                    1                           1   \n",
      "\n",
      "    Dbscan_Labels  \n",
      "11              0  \n",
      "14              0  \n",
      "16              0  \n",
      "18              0  \n",
      "22              0  \n",
      "25              0  \n",
      "26              0  \n",
      "28              0  \n",
      "33              0  \n",
      "40              0  \n",
      "44              0  \n",
      "47              0  \n",
      "48              0  \n",
      "_____________________________________________________________________\n"
     ]
    }
   ],
   "source": [
    "for e,f in grp:\n",
    "    print(f)\n",
    "    print(\"_____________________________________________________________________\")"
   ]
  },
  {
   "cell_type": "code",
   "execution_count": 237,
   "id": "b6196222",
   "metadata": {},
   "outputs": [
    {
     "data": {
      "text/html": [
       "<div>\n",
       "<style scoped>\n",
       "    .dataframe tbody tr th:only-of-type {\n",
       "        vertical-align: middle;\n",
       "    }\n",
       "\n",
       "    .dataframe tbody tr th {\n",
       "        vertical-align: top;\n",
       "    }\n",
       "\n",
       "    .dataframe thead tr th {\n",
       "        text-align: left;\n",
       "    }\n",
       "\n",
       "    .dataframe thead tr:last-of-type th {\n",
       "        text-align: right;\n",
       "    }\n",
       "</style>\n",
       "<table border=\"1\" class=\"dataframe\">\n",
       "  <thead>\n",
       "    <tr>\n",
       "      <th></th>\n",
       "      <th>Murder</th>\n",
       "      <th>Assault</th>\n",
       "      <th>UrbanPop</th>\n",
       "      <th>Rape</th>\n",
       "      <th>Kmean_labels</th>\n",
       "      <th>Kmeans_Labels_MinMax</th>\n",
       "      <th>Labels_Hierarchical</th>\n",
       "      <th>Labels_Hierarchical_MinMax</th>\n",
       "    </tr>\n",
       "    <tr>\n",
       "      <th></th>\n",
       "      <th>mean</th>\n",
       "      <th>mean</th>\n",
       "      <th>mean</th>\n",
       "      <th>mean</th>\n",
       "      <th>mean</th>\n",
       "      <th>mean</th>\n",
       "      <th>mean</th>\n",
       "      <th>mean</th>\n",
       "    </tr>\n",
       "    <tr>\n",
       "      <th>Dbscan_Labels</th>\n",
       "      <th></th>\n",
       "      <th></th>\n",
       "      <th></th>\n",
       "      <th></th>\n",
       "      <th></th>\n",
       "      <th></th>\n",
       "      <th></th>\n",
       "      <th></th>\n",
       "    </tr>\n",
       "  </thead>\n",
       "  <tbody>\n",
       "    <tr>\n",
       "      <th>-1</th>\n",
       "      <td>13.437500</td>\n",
       "      <td>276.500000</td>\n",
       "      <td>62.125000</td>\n",
       "      <td>30.562500</td>\n",
       "      <td>1.500000</td>\n",
       "      <td>1.500000</td>\n",
       "      <td>0.750000</td>\n",
       "      <td>0.000000</td>\n",
       "    </tr>\n",
       "    <tr>\n",
       "      <th>0</th>\n",
       "      <td>6.711905</td>\n",
       "      <td>150.619048</td>\n",
       "      <td>66.190476</td>\n",
       "      <td>19.454762</td>\n",
       "      <td>1.452381</td>\n",
       "      <td>1.595238</td>\n",
       "      <td>1.595238</td>\n",
       "      <td>0.952381</td>\n",
       "    </tr>\n",
       "  </tbody>\n",
       "</table>\n",
       "</div>"
      ],
      "text/plain": [
       "                  Murder     Assault   UrbanPop       Rape Kmean_labels  \\\n",
       "                    mean        mean       mean       mean         mean   \n",
       "Dbscan_Labels                                                             \n",
       "-1             13.437500  276.500000  62.125000  30.562500     1.500000   \n",
       " 0              6.711905  150.619048  66.190476  19.454762     1.452381   \n",
       "\n",
       "              Kmeans_Labels_MinMax Labels_Hierarchical  \\\n",
       "                              mean                mean   \n",
       "Dbscan_Labels                                            \n",
       "-1                        1.500000            0.750000   \n",
       " 0                        1.595238            1.595238   \n",
       "\n",
       "              Labels_Hierarchical_MinMax  \n",
       "                                    mean  \n",
       "Dbscan_Labels                             \n",
       "-1                              0.000000  \n",
       " 0                              0.952381  "
      ]
     },
     "execution_count": 237,
     "metadata": {},
     "output_type": "execute_result"
    }
   ],
   "source": [
    "grp3.agg(['mean'])"
   ]
  },
  {
   "cell_type": "code",
   "execution_count": 243,
   "id": "44a722c4",
   "metadata": {},
   "outputs": [
    {
     "data": {
      "image/png": "[encoded data removed]",
      "text/plain": [
       "<Figure size 640x480 with 1 Axes>"
      ]
     },
     "metadata": {},
     "output_type": "display_data"
    }
   ],
   "source": [
    "plt.scatter(Murder1['Dbscan_Labels'], Murder1.index, c=Labels_dbscan, cmap='rainbow')\n",
    "plt.xticks([-1,0])\n",
    "plt.show()"
   ]
  },
  {
   "cell_type": "code",
   "execution_count": 247,
   "id": "01c6ef4b",
   "metadata": {},
   "outputs": [
    {
     "data": {
      "text/plain": [
       "0.28454266833878855"
      ]
     },
     "execution_count": 247,
     "metadata": {},
     "output_type": "execute_result"
    }
   ],
   "source": [
    "Dbscan_Standard_Values=silhouette_score(Murder1.iloc[:,1:5], Labels_dbscan)\n",
    "Dbscan_Standard_Values"
   ]
  },
  {
   "cell_type": "markdown",
   "id": "bc7decfd",
   "metadata": {},
   "source": [
    "# Dbscan using MinMax Scaler"
   ]
  },
  {
   "cell_type": "code",
   "execution_count": 263,
   "id": "700e5814",
   "metadata": {},
   "outputs": [],
   "source": [
    "Dbscan1=DBSCAN(eps=0.5,min_samples=20)\n",
    "Dbscan1.fit(scaled)\n",
    "Labels_dbscan_MinMax = Dbscan1.labels_"
   ]
  },
  {
   "cell_type": "code",
   "execution_count": 264,
   "id": "4c55c351",
   "metadata": {},
   "outputs": [
    {
     "data": {
      "text/plain": [
       "array([ 0, -1,  0,  0, -1,  0,  0,  0, -1, -1,  0,  0,  0,  0,  0,  0,  0,\n",
       "        0,  0,  0,  0,  0,  0, -1,  0,  0,  0, -1,  0,  0,  0,  0, -1,  0,\n",
       "        0,  0,  0,  0,  0, -1,  0,  0,  0,  0,  0,  0,  0,  0,  0,  0],\n",
       "      dtype=int64)"
      ]
     },
     "execution_count": 264,
     "metadata": {},
     "output_type": "execute_result"
    }
   ],
   "source": [
    "Labels_dbscan_MinMax"
   ]
  },
  {
   "cell_type": "code",
   "execution_count": 265,
   "id": "8a7621c5",
   "metadata": {},
   "outputs": [],
   "source": [
    "Murder1['Dbscan_Labels_MinMax']=Labels_dbscan_MinMax"
   ]
  },
  {
   "cell_type": "code",
   "execution_count": 266,
   "id": "1551e1b2",
   "metadata": {},
   "outputs": [
    {
     "data": {
      "text/html": [
       "<div>\n",
       "<style scoped>\n",
       "    .dataframe tbody tr th:only-of-type {\n",
       "        vertical-align: middle;\n",
       "    }\n",
       "\n",
       "    .dataframe tbody tr th {\n",
       "        vertical-align: top;\n",
       "    }\n",
       "\n",
       "    .dataframe thead th {\n",
       "        text-align: right;\n",
       "    }\n",
       "</style>\n",
       "<table border=\"1\" class=\"dataframe\">\n",
       "  <thead>\n",
       "    <tr style=\"text-align: right;\">\n",
       "      <th></th>\n",
       "      <th>Place</th>\n",
       "      <th>Murder</th>\n",
       "      <th>Assault</th>\n",
       "      <th>UrbanPop</th>\n",
       "      <th>Rape</th>\n",
       "      <th>Kmean_labels</th>\n",
       "      <th>Kmeans_Labels_MinMax</th>\n",
       "      <th>Labels_Hierarchical</th>\n",
       "      <th>Labels_Hierarchical_MinMax</th>\n",
       "      <th>Dbscan_Labels</th>\n",
       "      <th>Dbscan_Labels_MinMax</th>\n",
       "    </tr>\n",
       "  </thead>\n",
       "  <tbody>\n",
       "    <tr>\n",
       "      <th>0</th>\n",
       "      <td>Alabama</td>\n",
       "      <td>13.2</td>\n",
       "      <td>236</td>\n",
       "      <td>58</td>\n",
       "      <td>21.2</td>\n",
       "      <td>1</td>\n",
       "      <td>2</td>\n",
       "      <td>0</td>\n",
       "      <td>0</td>\n",
       "      <td>0</td>\n",
       "      <td>0</td>\n",
       "    </tr>\n",
       "    <tr>\n",
       "      <th>1</th>\n",
       "      <td>Alaska</td>\n",
       "      <td>10.0</td>\n",
       "      <td>263</td>\n",
       "      <td>48</td>\n",
       "      <td>44.5</td>\n",
       "      <td>2</td>\n",
       "      <td>1</td>\n",
       "      <td>0</td>\n",
       "      <td>0</td>\n",
       "      <td>-1</td>\n",
       "      <td>-1</td>\n",
       "    </tr>\n",
       "    <tr>\n",
       "      <th>2</th>\n",
       "      <td>Arizona</td>\n",
       "      <td>8.1</td>\n",
       "      <td>294</td>\n",
       "      <td>80</td>\n",
       "      <td>31.0</td>\n",
       "      <td>2</td>\n",
       "      <td>1</td>\n",
       "      <td>2</td>\n",
       "      <td>0</td>\n",
       "      <td>0</td>\n",
       "      <td>0</td>\n",
       "    </tr>\n",
       "    <tr>\n",
       "      <th>3</th>\n",
       "      <td>Arkansas</td>\n",
       "      <td>8.8</td>\n",
       "      <td>190</td>\n",
       "      <td>50</td>\n",
       "      <td>19.5</td>\n",
       "      <td>1</td>\n",
       "      <td>2</td>\n",
       "      <td>1</td>\n",
       "      <td>1</td>\n",
       "      <td>0</td>\n",
       "      <td>0</td>\n",
       "    </tr>\n",
       "    <tr>\n",
       "      <th>4</th>\n",
       "      <td>California</td>\n",
       "      <td>9.0</td>\n",
       "      <td>276</td>\n",
       "      <td>91</td>\n",
       "      <td>40.6</td>\n",
       "      <td>2</td>\n",
       "      <td>1</td>\n",
       "      <td>2</td>\n",
       "      <td>0</td>\n",
       "      <td>-1</td>\n",
       "      <td>-1</td>\n",
       "    </tr>\n",
       "  </tbody>\n",
       "</table>\n",
       "</div>"
      ],
      "text/plain": [
       "        Place  Murder  Assault  UrbanPop  Rape  Kmean_labels  \\\n",
       "0     Alabama    13.2      236        58  21.2             1   \n",
       "1      Alaska    10.0      263        48  44.5             2   \n",
       "2     Arizona     8.1      294        80  31.0             2   \n",
       "3    Arkansas     8.8      190        50  19.5             1   \n",
       "4  California     9.0      276        91  40.6             2   \n",
       "\n",
       "   Kmeans_Labels_MinMax  Labels_Hierarchical  Labels_Hierarchical_MinMax  \\\n",
       "0                     2                    0                           0   \n",
       "1                     1                    0                           0   \n",
       "2                     1                    2                           0   \n",
       "3                     2                    1                           1   \n",
       "4                     1                    2                           0   \n",
       "\n",
       "   Dbscan_Labels  Dbscan_Labels_MinMax  \n",
       "0              0                     0  \n",
       "1             -1                    -1  \n",
       "2              0                     0  \n",
       "3              0                     0  \n",
       "4             -1                    -1  "
      ]
     },
     "execution_count": 266,
     "metadata": {},
     "output_type": "execute_result"
    }
   ],
   "source": [
    "Murder1.head()"
   ]
  },
  {
   "cell_type": "code",
   "execution_count": 268,
   "id": "e7a3076c",
   "metadata": {},
   "outputs": [
    {
     "data": {
      "image/png": "[encoded data removed]",
      "text/plain": [
       "<Figure size 640x480 with 1 Axes>"
      ]
     },
     "metadata": {},
     "output_type": "display_data"
    }
   ],
   "source": [
    "plt.scatter(Murder1['Dbscan_Labels_MinMax'], Murder1.index, c=Labels_dbscan_MinMax, cmap='rainbow')\n",
    "plt.xticks([-1,0])\n",
    "plt.show()"
   ]
  },
  {
   "cell_type": "code",
   "execution_count": 271,
   "id": "cd00acd3",
   "metadata": {},
   "outputs": [
    {
     "data": {
      "text/plain": [
       "<pandas.core.groupby.generic.DataFrameGroupBy object at 0x000001D5F06FD400>"
      ]
     },
     "execution_count": 271,
     "metadata": {},
     "output_type": "execute_result"
    }
   ],
   "source": [
    "dbscan_grp = Murder1.groupby(['Dbscan_Labels_MinMax'])\n",
    "dbscan_grp"
   ]
  },
  {
   "cell_type": "code",
   "execution_count": 270,
   "id": "9ae3e28c",
   "metadata": {},
   "outputs": [
    {
     "name": "stdout",
     "output_type": "stream",
     "text": [
      "            Place  Murder  Assault  UrbanPop  Rape  Kmean_labels  \\\n",
      "6     Connecticut     3.3      110        77  11.1             0   \n",
      "7        Delaware     5.9      238        72  15.8             0   \n",
      "10         Hawaii     5.3       46        83  20.2             0   \n",
      "13        Indiana     7.2      113        65  21.0             0   \n",
      "15         Kansas     6.0      115        66  18.0             0   \n",
      "20  Massachusetts     4.4      149        85  16.3             0   \n",
      "29     New Jersey     7.4      159        89  18.8             0   \n",
      "34           Ohio     7.3      120        75  21.4             0   \n",
      "35       Oklahoma     6.6      151        68  20.0             0   \n",
      "36         Oregon     4.9      159        67  29.3             0   \n",
      "37   Pennsylvania     6.3      106        72  14.9             0   \n",
      "38   Rhode Island     3.4      174        87   8.3             0   \n",
      "43           Utah     3.2      120        80  22.9             0   \n",
      "45       Virginia     8.5      156        63  20.7             0   \n",
      "46     Washington     4.0      145        73  26.2             0   \n",
      "49        Wyoming     6.8      161        60  15.6             0   \n",
      "\n",
      "    Kmeans_Labels_MinMax  Labels_Hierarchical  Labels_Hierarchical_MinMax  \\\n",
      "6                      3                    1                           1   \n",
      "7                      3                    1                           1   \n",
      "10                     3                    1                           1   \n",
      "13                     3                    1                           1   \n",
      "15                     3                    1                           1   \n",
      "20                     3                    1                           1   \n",
      "29                     3                    1                           1   \n",
      "34                     3                    1                           1   \n",
      "35                     3                    1                           1   \n",
      "36                     3                    1                           1   \n",
      "37                     3                    1                           1   \n",
      "38                     3                    1                           1   \n",
      "43                     3                    1                           1   \n",
      "45                     3                    1                           1   \n",
      "46                     3                    1                           1   \n",
      "49                     3                    1                           1   \n",
      "\n",
      "    Dbscan_Labels  Dbscan_Labels_MinMax  \n",
      "6               0                     0  \n",
      "7               0                     0  \n",
      "10              0                     0  \n",
      "13              0                     0  \n",
      "15              0                     0  \n",
      "20              0                     0  \n",
      "29              0                     0  \n",
      "34              0                     0  \n",
      "35              0                     0  \n",
      "36              0                     0  \n",
      "37              0                     0  \n",
      "38              0                     0  \n",
      "43              0                     0  \n",
      "45              0                     0  \n",
      "46              0                     0  \n",
      "49              0                     0  \n",
      "_____________________________________________________________________\n",
      "\n",
      "             Place  Murder  Assault  UrbanPop  Rape  Kmean_labels  \\\n",
      "0          Alabama    13.2      236        58  21.2             1   \n",
      "3         Arkansas     8.8      190        50  19.5             1   \n",
      "9          Georgia    17.4      211        60  25.8             1   \n",
      "17       Louisiana    15.4      249        66  22.2             1   \n",
      "23     Mississippi    16.1      259        44  17.1             1   \n",
      "32  North Carolina    13.0      337        45  16.1             1   \n",
      "39  South Carolina    14.4      279        48  22.5             1   \n",
      "41       Tennessee    13.2      188        59  26.9             1   \n",
      "\n",
      "    Kmeans_Labels_MinMax  Labels_Hierarchical  Labels_Hierarchical_MinMax  \\\n",
      "0                      2                    0                           0   \n",
      "3                      2                    1                           1   \n",
      "9                      2                    0                           0   \n",
      "17                     2                    0                           0   \n",
      "23                     2                    0                           0   \n",
      "32                     2                    0                           0   \n",
      "39                     2                    0                           0   \n",
      "41                     2                    0                           0   \n",
      "\n",
      "    Dbscan_Labels  Dbscan_Labels_MinMax  \n",
      "0               0                     0  \n",
      "3               0                     0  \n",
      "9              -1                    -1  \n",
      "17              0                     0  \n",
      "23             -1                    -1  \n",
      "32             -1                    -1  \n",
      "39             -1                    -1  \n",
      "41              0                     0  \n",
      "_____________________________________________________________________\n",
      "\n",
      "         Place  Murder  Assault  UrbanPop  Rape  Kmean_labels  \\\n",
      "1       Alaska    10.0      263        48  44.5             2   \n",
      "2      Arizona     8.1      294        80  31.0             2   \n",
      "4   California     9.0      276        91  40.6             2   \n",
      "5     Colorado     7.9      204        78  38.7             2   \n",
      "8      Florida    15.4      335        80  31.9             2   \n",
      "12    Illinois    10.4      249        83  24.0             2   \n",
      "19    Maryland    11.3      300        67  27.8             2   \n",
      "21    Michigan    12.1      255        74  35.1             2   \n",
      "24    Missouri     9.0      178        70  28.2             2   \n",
      "27      Nevada    12.2      252        81  46.0             2   \n",
      "30  New Mexico    11.4      285        70  32.1             2   \n",
      "31    New York    11.1      254        86  26.1             2   \n",
      "42       Texas    12.7      201        80  25.5             2   \n",
      "\n",
      "    Kmeans_Labels_MinMax  Labels_Hierarchical  Labels_Hierarchical_MinMax  \\\n",
      "1                      1                    0                           0   \n",
      "2                      1                    2                           0   \n",
      "4                      1                    2                           0   \n",
      "5                      1                    2                           0   \n",
      "8                      1                    2                           0   \n",
      "12                     1                    2                           0   \n",
      "19                     1                    2                           0   \n",
      "21                     1                    2                           0   \n",
      "24                     3                    1                           0   \n",
      "27                     1                    2                           0   \n",
      "30                     1                    2                           0   \n",
      "31                     1                    2                           0   \n",
      "42                     1                    2                           0   \n",
      "\n",
      "    Dbscan_Labels  Dbscan_Labels_MinMax  \n",
      "1              -1                    -1  \n",
      "2               0                     0  \n",
      "4              -1                    -1  \n",
      "5               0                     0  \n",
      "8              -1                    -1  \n",
      "12              0                     0  \n",
      "19              0                     0  \n",
      "21              0                     0  \n",
      "24              0                     0  \n",
      "27             -1                    -1  \n",
      "30              0                     0  \n",
      "31              0                     0  \n",
      "42              0                     0  \n",
      "_____________________________________________________________________\n",
      "\n",
      "            Place  Murder  Assault  UrbanPop  Rape  Kmean_labels  \\\n",
      "11          Idaho     2.6      120        54  14.2             3   \n",
      "14           Iowa     2.2       56        57  11.3             3   \n",
      "16       Kentucky     9.7      109        52  16.3             3   \n",
      "18          Maine     2.1       83        51   7.8             3   \n",
      "22      Minnesota     2.7       72        66  14.9             3   \n",
      "25        Montana     6.0      109        53  16.4             3   \n",
      "26       Nebraska     4.3      102        62  16.5             3   \n",
      "28  New Hampshire     2.1       57        56   9.5             3   \n",
      "33   North Dakota     0.8       45        44   7.3             3   \n",
      "40   South Dakota     3.8       86        45  12.8             3   \n",
      "44        Vermont     2.2       48        32  11.2             3   \n",
      "47  West Virginia     5.7       81        39   9.3             3   \n",
      "48      Wisconsin     2.6       53        66  10.8             3   \n",
      "\n",
      "    Kmeans_Labels_MinMax  Labels_Hierarchical  Labels_Hierarchical_MinMax  \\\n",
      "11                     0                    3                           2   \n",
      "14                     0                    3                           2   \n",
      "16                     0                    1                           1   \n",
      "18                     0                    3                           2   \n",
      "22                     0                    1                           1   \n",
      "25                     0                    3                           2   \n",
      "26                     0                    3                           2   \n",
      "28                     0                    3                           2   \n",
      "33                     0                    3                           2   \n",
      "40                     0                    3                           2   \n",
      "44                     0                    3                           2   \n",
      "47                     0                    3                           2   \n",
      "48                     0                    1                           1   \n",
      "\n",
      "    Dbscan_Labels  Dbscan_Labels_MinMax  \n",
      "11              0                     0  \n",
      "14              0                     0  \n",
      "16              0                     0  \n",
      "18              0                     0  \n",
      "22              0                     0  \n",
      "25              0                     0  \n",
      "26              0                     0  \n",
      "28              0                     0  \n",
      "33              0                     0  \n",
      "40              0                     0  \n",
      "44              0                     0  \n",
      "47              0                     0  \n",
      "48              0                     0  \n",
      "_____________________________________________________________________\n",
      "\n"
     ]
    }
   ],
   "source": [
    "for g,h in grp:\n",
    "    print(h)\n",
    "    print(\"_____________________________________________________________________\")\n",
    "    print(\"\")"
   ]
  },
  {
   "cell_type": "code",
   "execution_count": 272,
   "id": "076adbbc",
   "metadata": {},
   "outputs": [
    {
     "data": {
      "text/html": [
       "<div>\n",
       "<style scoped>\n",
       "    .dataframe tbody tr th:only-of-type {\n",
       "        vertical-align: middle;\n",
       "    }\n",
       "\n",
       "    .dataframe tbody tr th {\n",
       "        vertical-align: top;\n",
       "    }\n",
       "\n",
       "    .dataframe thead tr th {\n",
       "        text-align: left;\n",
       "    }\n",
       "\n",
       "    .dataframe thead tr:last-of-type th {\n",
       "        text-align: right;\n",
       "    }\n",
       "</style>\n",
       "<table border=\"1\" class=\"dataframe\">\n",
       "  <thead>\n",
       "    <tr>\n",
       "      <th></th>\n",
       "      <th>Murder</th>\n",
       "      <th>Assault</th>\n",
       "      <th>UrbanPop</th>\n",
       "      <th>Rape</th>\n",
       "      <th>Kmean_labels</th>\n",
       "      <th>Kmeans_Labels_MinMax</th>\n",
       "      <th>Labels_Hierarchical</th>\n",
       "      <th>Labels_Hierarchical_MinMax</th>\n",
       "      <th>Dbscan_Labels</th>\n",
       "    </tr>\n",
       "    <tr>\n",
       "      <th></th>\n",
       "      <th>mean</th>\n",
       "      <th>mean</th>\n",
       "      <th>mean</th>\n",
       "      <th>mean</th>\n",
       "      <th>mean</th>\n",
       "      <th>mean</th>\n",
       "      <th>mean</th>\n",
       "      <th>mean</th>\n",
       "      <th>mean</th>\n",
       "    </tr>\n",
       "    <tr>\n",
       "      <th>Dbscan_Labels_MinMax</th>\n",
       "      <th></th>\n",
       "      <th></th>\n",
       "      <th></th>\n",
       "      <th></th>\n",
       "      <th></th>\n",
       "      <th></th>\n",
       "      <th></th>\n",
       "      <th></th>\n",
       "      <th></th>\n",
       "    </tr>\n",
       "  </thead>\n",
       "  <tbody>\n",
       "    <tr>\n",
       "      <th>-1</th>\n",
       "      <td>13.437500</td>\n",
       "      <td>276.500000</td>\n",
       "      <td>62.125000</td>\n",
       "      <td>30.562500</td>\n",
       "      <td>1.500000</td>\n",
       "      <td>1.500000</td>\n",
       "      <td>0.750000</td>\n",
       "      <td>0.000000</td>\n",
       "      <td>-1.0</td>\n",
       "    </tr>\n",
       "    <tr>\n",
       "      <th>0</th>\n",
       "      <td>6.711905</td>\n",
       "      <td>150.619048</td>\n",
       "      <td>66.190476</td>\n",
       "      <td>19.454762</td>\n",
       "      <td>1.452381</td>\n",
       "      <td>1.595238</td>\n",
       "      <td>1.595238</td>\n",
       "      <td>0.952381</td>\n",
       "      <td>0.0</td>\n",
       "    </tr>\n",
       "  </tbody>\n",
       "</table>\n",
       "</div>"
      ],
      "text/plain": [
       "                         Murder     Assault   UrbanPop       Rape  \\\n",
       "                           mean        mean       mean       mean   \n",
       "Dbscan_Labels_MinMax                                                \n",
       "-1                    13.437500  276.500000  62.125000  30.562500   \n",
       " 0                     6.711905  150.619048  66.190476  19.454762   \n",
       "\n",
       "                     Kmean_labels Kmeans_Labels_MinMax Labels_Hierarchical  \\\n",
       "                             mean                 mean                mean   \n",
       "Dbscan_Labels_MinMax                                                         \n",
       "-1                       1.500000             1.500000            0.750000   \n",
       " 0                       1.452381             1.595238            1.595238   \n",
       "\n",
       "                     Labels_Hierarchical_MinMax Dbscan_Labels  \n",
       "                                           mean          mean  \n",
       "Dbscan_Labels_MinMax                                           \n",
       "-1                                     0.000000          -1.0  \n",
       " 0                                     0.952381           0.0  "
      ]
     },
     "execution_count": 272,
     "metadata": {},
     "output_type": "execute_result"
    }
   ],
   "source": [
    "dbscan_grp.agg(['mean'])"
   ]
  },
  {
   "cell_type": "code",
   "execution_count": 275,
   "id": "3b91609b",
   "metadata": {},
   "outputs": [],
   "source": [
    "# Evaluating Model\n",
    "Dbscan_MinMax=silhouette_score(Murder1.iloc[:,1:5], Labels_dbscan_MinMax)"
   ]
  },
  {
   "cell_type": "code",
   "execution_count": 276,
   "id": "5b39ccc8",
   "metadata": {},
   "outputs": [
    {
     "data": {
      "text/plain": [
       "0.28454266833878855"
      ]
     },
     "execution_count": 276,
     "metadata": {},
     "output_type": "execute_result"
    }
   ],
   "source": [
    "Dbscan_MinMax"
   ]
  },
  {
   "cell_type": "markdown",
   "id": "de94a292",
   "metadata": {},
   "source": [
    "## All Silhouette_Score"
   ]
  },
  {
   "cell_type": "code",
   "execution_count": 312,
   "id": "132de6ec",
   "metadata": {},
   "outputs": [],
   "source": [
    "from pandas import DataFrame, Series"
   ]
  },
  {
   "cell_type": "code",
   "execution_count": 328,
   "id": "d21a953f",
   "metadata": {},
   "outputs": [],
   "source": [
    "All_Silhouette_Score=[['Kmean_standardscaler',0.21111699937733835],\n",
    "                      ['Kmean_minmaxscaler',0.2333659874278873],\n",
    "                      ['Hierarchical_standard_scale',0.1543286368547087],\n",
    "                      ['Hierarchical_MinMax',0.30393982982293066], \n",
    "                      ['Dbscan_Standard_Values',0.28454266833878855], \n",
    "                      ['Dbscan_MinMax',0.28454266833878855]]"
   ]
  },
  {
   "cell_type": "code",
   "execution_count": 329,
   "id": "9c482cc1",
   "metadata": {},
   "outputs": [],
   "source": [
    "Silhouette_Score_Table= pd.DataFrame(All_Silhouette_Score, columns=['Model','Silhouette_Score'])"
   ]
  },
  {
   "cell_type": "code",
   "execution_count": 330,
   "id": "c02e9eb8",
   "metadata": {},
   "outputs": [
    {
     "data": {
      "text/html": [
       "<div>\n",
       "<style scoped>\n",
       "    .dataframe tbody tr th:only-of-type {\n",
       "        vertical-align: middle;\n",
       "    }\n",
       "\n",
       "    .dataframe tbody tr th {\n",
       "        vertical-align: top;\n",
       "    }\n",
       "\n",
       "    .dataframe thead th {\n",
       "        text-align: right;\n",
       "    }\n",
       "</style>\n",
       "<table border=\"1\" class=\"dataframe\">\n",
       "  <thead>\n",
       "    <tr style=\"text-align: right;\">\n",
       "      <th></th>\n",
       "      <th>Model</th>\n",
       "      <th>Silhouette_Score</th>\n",
       "    </tr>\n",
       "  </thead>\n",
       "  <tbody>\n",
       "    <tr>\n",
       "      <th>0</th>\n",
       "      <td>Kmean_standardscaler</td>\n",
       "      <td>0.211117</td>\n",
       "    </tr>\n",
       "    <tr>\n",
       "      <th>1</th>\n",
       "      <td>Kmean_minmaxscaler</td>\n",
       "      <td>0.233366</td>\n",
       "    </tr>\n",
       "    <tr>\n",
       "      <th>2</th>\n",
       "      <td>Hierarchical_standard_scale</td>\n",
       "      <td>0.154329</td>\n",
       "    </tr>\n",
       "    <tr>\n",
       "      <th>3</th>\n",
       "      <td>Hierarchical_MinMax</td>\n",
       "      <td>0.303940</td>\n",
       "    </tr>\n",
       "    <tr>\n",
       "      <th>4</th>\n",
       "      <td>Dbscan_Standard_Values</td>\n",
       "      <td>0.284543</td>\n",
       "    </tr>\n",
       "    <tr>\n",
       "      <th>5</th>\n",
       "      <td>Dbscan_MinMax</td>\n",
       "      <td>0.284543</td>\n",
       "    </tr>\n",
       "  </tbody>\n",
       "</table>\n",
       "</div>"
      ],
      "text/plain": [
       "                         Model  Silhouette_Score\n",
       "0         Kmean_standardscaler          0.211117\n",
       "1           Kmean_minmaxscaler          0.233366\n",
       "2  Hierarchical_standard_scale          0.154329\n",
       "3          Hierarchical_MinMax          0.303940\n",
       "4       Dbscan_Standard_Values          0.284543\n",
       "5                Dbscan_MinMax          0.284543"
      ]
     },
     "execution_count": 330,
     "metadata": {},
     "output_type": "execute_result"
    }
   ],
   "source": [
    "Silhouette_Score_Table"
   ]
  },
  {
   "cell_type": "code",
   "execution_count": null,
   "id": "e316b03b",
   "metadata": {},
   "outputs": [],
   "source": []
  }
 ],
 "metadata": {
  "kernelspec": {
   "display_name": "Python 3 (ipykernel)",
   "language": "python",
   "name": "python3"
  },
  "language_info": {
   "codemirror_mode": {
    "name": "ipython",
    "version": 3
   },
   "file_extension": ".py",
   "mimetype": "text/x-python",
   "name": "python",
   "nbconvert_exporter": "python",
   "pygments_lexer": "ipython3",
   "version": "3.9.13"
  }
 },
 "nbformat": 4,
 "nbformat_minor": 5
}
